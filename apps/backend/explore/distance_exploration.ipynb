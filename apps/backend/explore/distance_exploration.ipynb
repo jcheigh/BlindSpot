{
 "cells": [
  {
   "cell_type": "markdown",
   "metadata": {},
   "source": [
    "# Initial Exploration of Distance Metric \n",
    "\n",
    "We need to have a good way to determine if a guess is \"correct\" or not. Inital thought is just some cosine similarity, but this may be slow"
   ]
  },
  {
   "cell_type": "code",
   "execution_count": 1,
   "metadata": {},
   "outputs": [],
   "source": [
    "from sentence_transformers import SentenceTransformer, util"
   ]
  },
  {
   "cell_type": "code",
   "execution_count": 2,
   "metadata": {},
   "outputs": [
    {
     "data": {
      "text/plain": [
       "SentenceTransformer(\n",
       "  (0): Transformer({'max_seq_length': 256, 'do_lower_case': False}) with Transformer model: BertModel \n",
       "  (1): Pooling({'word_embedding_dimension': 384, 'pooling_mode_cls_token': False, 'pooling_mode_mean_tokens': True, 'pooling_mode_max_tokens': False, 'pooling_mode_mean_sqrt_len_tokens': False, 'pooling_mode_weightedmean_tokens': False, 'pooling_mode_lasttoken': False, 'include_prompt': True})\n",
       "  (2): Normalize()\n",
       ")"
      ]
     },
     "execution_count": 2,
     "metadata": {},
     "output_type": "execute_result"
    }
   ],
   "source": [
    "model = SentenceTransformer(\"all-MiniLM-L6-v2\")\n",
    "model"
   ]
  },
  {
   "cell_type": "code",
   "execution_count": 10,
   "metadata": {},
   "outputs": [],
   "source": [
    "parse = lambda x : x.strip().lower()\n",
    "enc   = lambda x : model.encode(parse(x))\n",
    "\n",
    "v = enc(\"hello\")\n",
    "### WALRUS OPERATOR \n",
    "assert len(v) == (DIM := 384)"
   ]
  },
  {
   "cell_type": "code",
   "execution_count": 11,
   "metadata": {},
   "outputs": [
    {
     "data": {
      "text/plain": [
       "0.34536516666412354"
      ]
     },
     "execution_count": 11,
     "metadata": {},
     "output_type": "execute_result"
    }
   ],
   "source": [
    "cos_sim = lambda a,b : util.cos_sim(enc(a),enc(b)).item()\n",
    "cos_sim(\"hello\",\"world\")"
   ]
  },
  {
   "cell_type": "code",
   "execution_count": 16,
   "metadata": {},
   "outputs": [
    {
     "name": "stdout",
     "output_type": "stream",
     "text": [
      "w1='sports', w2='athletics', cos_sim: 0.77\n",
      "w1='sports', w2='football', cos_sim: 0.79\n",
      "w1='sports', w2='baseball', cos_sim: 0.78\n",
      "w1='sports', w2='ball', cos_sim: 0.6\n",
      "w1='sports', w2='dance', cos_sim: 0.46\n",
      "w1='sports', w2='chess', cos_sim: 0.51\n",
      "w1='sports', w2='spaghetti', cos_sim: 0.27\n",
      "w1='sports', w2='walrus operator', cos_sim: 0.02\n",
      "====================\n",
      "w1='athletics', w2='football', cos_sim: 0.6\n",
      "w1='athletics', w2='baseball', cos_sim: 0.64\n",
      "w1='athletics', w2='ball', cos_sim: 0.48\n",
      "w1='athletics', w2='dance', cos_sim: 0.41\n",
      "w1='athletics', w2='chess', cos_sim: 0.34\n",
      "w1='athletics', w2='spaghetti', cos_sim: 0.24\n",
      "w1='athletics', w2='walrus operator', cos_sim: 0.04\n",
      "====================\n",
      "w1='football', w2='baseball', cos_sim: 0.67\n",
      "w1='football', w2='ball', cos_sim: 0.62\n",
      "w1='football', w2='dance', cos_sim: 0.44\n",
      "w1='football', w2='chess', cos_sim: 0.54\n",
      "w1='football', w2='spaghetti', cos_sim: 0.33\n",
      "w1='football', w2='walrus operator', cos_sim: 0.02\n",
      "====================\n",
      "w1='baseball', w2='ball', cos_sim: 0.68\n",
      "w1='baseball', w2='dance', cos_sim: 0.36\n",
      "w1='baseball', w2='chess', cos_sim: 0.44\n",
      "w1='baseball', w2='spaghetti', cos_sim: 0.28\n",
      "w1='baseball', w2='walrus operator', cos_sim: 0.04\n",
      "====================\n",
      "w1='ball', w2='dance', cos_sim: 0.36\n",
      "w1='ball', w2='chess', cos_sim: 0.43\n",
      "w1='ball', w2='spaghetti', cos_sim: 0.29\n",
      "w1='ball', w2='walrus operator', cos_sim: 0.12\n",
      "====================\n",
      "w1='dance', w2='chess', cos_sim: 0.4\n",
      "w1='dance', w2='spaghetti', cos_sim: 0.36\n",
      "w1='dance', w2='walrus operator', cos_sim: 0.02\n",
      "====================\n",
      "w1='chess', w2='spaghetti', cos_sim: 0.22\n",
      "w1='chess', w2='walrus operator', cos_sim: 0.06\n",
      "====================\n",
      "w1='spaghetti', w2='walrus operator', cos_sim: 0.01\n",
      "====================\n"
     ]
    }
   ],
   "source": [
    "test_words = ['sports', 'athletics', 'football', 'baseball', 'ball', 'dance', 'chess', 'spaghetti', 'walrus operator']\n",
    "\n",
    "for i, w1 in enumerate(test_words[:-1]):\n",
    "    for w2 in test_words[i+1:]:\n",
    "        print(f'{w1=}, {w2=}, cos_sim: {round(cos_sim(w1,w2),2)}')\n",
    "    print(f'=' * 20)"
   ]
  },
  {
   "cell_type": "code",
   "execution_count": 23,
   "metadata": {},
   "outputs": [
    {
     "data": {
      "text/plain": [
       "0.4881502389907837"
      ]
     },
     "execution_count": 23,
     "metadata": {},
     "output_type": "execute_result"
    }
   ],
   "source": [
    "cos_sim('love','hate')"
   ]
  },
  {
   "cell_type": "markdown",
   "metadata": {},
   "source": [
    "yeah i cant get negative in this embedding space lol. "
   ]
  },
  {
   "cell_type": "code",
   "execution_count": 26,
   "metadata": {},
   "outputs": [
    {
     "data": {
      "text/plain": [
       "0.25592488050460815"
      ]
     },
     "execution_count": 26,
     "metadata": {},
     "output_type": "execute_result"
    }
   ],
   "source": [
    "dist = lambda a,b : 1 - ((cos_sim(a,b)+1)/2)\n",
    "dist('love','hate')"
   ]
  },
  {
   "cell_type": "code",
   "execution_count": 28,
   "metadata": {},
   "outputs": [
    {
     "name": "stdout",
     "output_type": "stream",
     "text": [
      "w1='sports', w2='athletics', cos_sim: 0.12\n",
      "w1='sports', w2='football', cos_sim: 0.1\n",
      "w1='sports', w2='baseball', cos_sim: 0.11\n",
      "w1='sports', w2='ball', cos_sim: 0.2\n",
      "w1='sports', w2='dance', cos_sim: 0.27\n",
      "w1='sports', w2='chess', cos_sim: 0.24\n",
      "w1='sports', w2='spaghetti', cos_sim: 0.36\n",
      "w1='sports', w2='walrus operator', cos_sim: 0.49\n",
      "====================\n",
      "w1='athletics', w2='football', cos_sim: 0.2\n",
      "w1='athletics', w2='baseball', cos_sim: 0.18\n",
      "w1='athletics', w2='ball', cos_sim: 0.26\n",
      "w1='athletics', w2='dance', cos_sim: 0.29\n",
      "w1='athletics', w2='chess', cos_sim: 0.33\n",
      "w1='athletics', w2='spaghetti', cos_sim: 0.38\n",
      "w1='athletics', w2='walrus operator', cos_sim: 0.48\n",
      "====================\n",
      "w1='football', w2='baseball', cos_sim: 0.17\n",
      "w1='football', w2='ball', cos_sim: 0.19\n",
      "w1='football', w2='dance', cos_sim: 0.28\n",
      "w1='football', w2='chess', cos_sim: 0.23\n",
      "w1='football', w2='spaghetti', cos_sim: 0.33\n",
      "w1='football', w2='walrus operator', cos_sim: 0.49\n",
      "====================\n",
      "w1='baseball', w2='ball', cos_sim: 0.16\n",
      "w1='baseball', w2='dance', cos_sim: 0.32\n",
      "w1='baseball', w2='chess', cos_sim: 0.28\n",
      "w1='baseball', w2='spaghetti', cos_sim: 0.36\n",
      "w1='baseball', w2='walrus operator', cos_sim: 0.48\n",
      "====================\n",
      "w1='ball', w2='dance', cos_sim: 0.32\n",
      "w1='ball', w2='chess', cos_sim: 0.28\n",
      "w1='ball', w2='spaghetti', cos_sim: 0.35\n",
      "w1='ball', w2='walrus operator', cos_sim: 0.44\n",
      "====================\n",
      "w1='dance', w2='chess', cos_sim: 0.3\n",
      "w1='dance', w2='spaghetti', cos_sim: 0.32\n",
      "w1='dance', w2='walrus operator', cos_sim: 0.49\n",
      "====================\n",
      "w1='chess', w2='spaghetti', cos_sim: 0.39\n",
      "w1='chess', w2='walrus operator', cos_sim: 0.47\n",
      "====================\n",
      "w1='spaghetti', w2='walrus operator', cos_sim: 0.49\n",
      "====================\n"
     ]
    }
   ],
   "source": [
    "test_words = ['sports', 'athletics', 'football', 'baseball', 'ball', 'dance', 'chess', 'spaghetti', 'walrus operator']\n",
    "\n",
    "for i, w1 in enumerate(test_words[:-1]):\n",
    "    for w2 in test_words[i+1:]:\n",
    "        print(f'{w1=}, {w2=}, cos_sim: {round(dist(w1,w2),2)}')\n",
    "    print(f'=' * 20)"
   ]
  },
  {
   "cell_type": "markdown",
   "metadata": {},
   "source": [
    "Ehh let's do threshold .15 who cares"
   ]
  },
  {
   "cell_type": "code",
   "execution_count": null,
   "metadata": {},
   "outputs": [],
   "source": []
  }
 ],
 "metadata": {
  "kernelspec": {
   "display_name": "Python 3.11.1 ('blindspot-backend-hq05RMFZ-py3.11')",
   "language": "python",
   "name": "python3"
  },
  "language_info": {
   "codemirror_mode": {
    "name": "ipython",
    "version": 3
   },
   "file_extension": ".py",
   "mimetype": "text/x-python",
   "name": "python",
   "nbconvert_exporter": "python",
   "pygments_lexer": "ipython3",
   "version": "3.11.1"
  },
  "orig_nbformat": 4,
  "vscode": {
   "interpreter": {
    "hash": "8e6349a860d487c4d7ee46a634b9f9c9c6b08df643a53bf7f5e485153104a9fb"
   }
  }
 },
 "nbformat": 4,
 "nbformat_minor": 2
}
