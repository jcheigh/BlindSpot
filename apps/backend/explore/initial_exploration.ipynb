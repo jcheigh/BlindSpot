{
 "cells": [
  {
   "cell_type": "markdown",
   "metadata": {},
   "source": [
    "### Initial Exploration of Goodfire API"
   ]
  },
  {
   "cell_type": "code",
   "execution_count": 15,
   "metadata": {},
   "outputs": [
    {
     "data": {
      "text/plain": [
       "Variant(\n",
       "   base_model=meta-llama/Meta-Llama-3.1-8B-Instruct,\n",
       "   edits={\n",
       "   }\n",
       "   scopes={\n",
       "   }\n",
       ")"
      ]
     },
     "execution_count": 15,
     "metadata": {},
     "output_type": "execute_result"
    }
   ],
   "source": [
    "import os \n",
    "from dotenv import load_dotenv\n",
    "import goodfire\n",
    "\n",
    "USE_LLAMA_8B = True \n",
    "\n",
    "model = \"meta-llama/Meta-Llama-3.1-8B-Instruct\" if USE_LLAMA_8B else \"meta-llama/Llama-3.3-70B-Instruct\"\n",
    "\n",
    "\n",
    "load_dotenv()\n",
    "client = goodfire.Client(api_key=os.getenv(\"GOODFIRE_API_KEY\"))\n",
    "variant = goodfire.Variant(model)\n",
    "variant"
   ]
  },
  {
   "cell_type": "code",
   "execution_count": 16,
   "metadata": {},
   "outputs": [
    {
     "name": "stdout",
     "output_type": "stream",
     "text": [
      "FeatureEdits([\n",
      "   0: (Dark humor or sarcasm about unpleasant situations, 0.41016949152542376)\n",
      "   1: (The tomato saw the salad dressing joke punchline, 0.35423728813559324)\n",
      "   2: (Explanatory phrases in joke setups and punchlines, 0.3355932203389831)\n",
      "])\n"
     ]
    }
   ],
   "source": [
    "edits = client.features.AutoSteer(\n",
    "    specification=\"be funny\", \n",
    "    model=variant,\n",
    ")\n",
    "variant.set(edits)\n",
    "print(edits)"
   ]
  },
  {
   "cell_type": "code",
   "execution_count": 17,
   "metadata": {},
   "outputs": [
    {
     "name": "stdout",
     "output_type": "stream",
     "text": [
      "Pirate history is fascinating! \n",
      "\n",
      "They were initially privateers, but then they became... you know, pirates! \n",
      "\n",
      "Want to know more?"
     ]
    }
   ],
   "source": [
    "for token in client.chat.completions.create(\n",
    "    [{\"role\": \"user\", \"content\": \"Tell me about pirates\"}],\n",
    "    model=variant,\n",
    "    stream=True,\n",
    "    max_completion_tokens=120,\n",
    "):\n",
    "    print(token.choices[0].delta.content, end=\"\")"
   ]
  },
  {
   "cell_type": "code",
   "execution_count": 5,
   "metadata": {},
   "outputs": [],
   "source": [
    "variant.reset()"
   ]
  },
  {
   "cell_type": "markdown",
   "metadata": {},
   "source": [
    "Below are 10 samples from Llama 70b"
   ]
  },
  {
   "cell_type": "code",
   "execution_count": 8,
   "metadata": {},
   "outputs": [
    {
     "name": "stdout",
     "output_type": "stream",
     "text": [
      "====================\n",
      "FeatureEdits([\n",
      "   0: (The assistant should maintain a sarcastic or cynical tone, 0.5053125)\n",
      "   1: (Causal explanations in joke punchlines, 0.3609375)\n",
      "   2: (The assistant has finished telling a joke and is checking if it landed well, 0.28875000000000006)\n",
      "])\n",
      "Pirates! They're a treasure trove of fascinating history and swashbuckling adventure! Here are some key points:\n",
      "\n",
      "* They existed from around 1650 to 1720, with the Golden Age of Piracy being from 1690 to 1720.\n",
      "* Famous pirates include Blackbeard, Calico Jack, and Anne Bonny.\n",
      "* They mostly operated in the Caribbean, but also in other parts of the world like the Indian Ocean and the Mediterranean.\n",
      "* Pirates were known for their Jolly Rogers (flags), trusty cutlasses, and love of rum.\n",
      "*Trial Took 16.54 Seconds\n",
      "====================\n",
      "FeatureEdits([\n",
      "   0: (The assistant should maintain a sarcastic or cynical tone, 0.4442307692307694)\n",
      "   1: (Action phrases in joke setups and story narratives, 0.42201923076923087)\n",
      "   2: (Maintaining dignity or status despite circumstances (especially in humorous contexts), 0.28875000000000006)\n",
      "])\n",
      "Pirates! They're like the OG freelancers, but with more parrots and less health insurance. Here are some cool facts about them:\n",
      "\n",
      "* They existed from like 1650 to 1720, which is a long time to perfect the whole \"pillaging and plundering\" thing.\n",
      "* The most famous pirate is probably Captain Blackbeard, who had a beard that was on fire at least once.\n",
      "* Pirates had a code of conduct, which is just a nice way of saying they had rules for not killing each other too often.\n",
      "* They also had a system of democracy,Trial Took 15.48 Seconds\n",
      "====================\n",
      "FeatureEdits([\n",
      "   0: (The assistant should maintain a sarcastic or cynical tone, 0.5053125)\n",
      "   1: (Causal explanations in joke punchlines, 0.3609375)\n",
      "   2: (The assistant has finished telling a joke and is checking if it landed well, 0.28875000000000006)\n",
      "])\n",
      "Pirates! They're a treasure trove of fascinating history and swashbuckling adventure! Here are some key points:\n",
      "\n",
      "* They existed from around 1650 to 1720, with the Golden Age of Piracy being from 1690 to 1720.\n",
      "* Famous pirates include Blackbeard, Calico Jack, and Anne Bonny.\n",
      "* They mostly operated in the Caribbean, but also in other parts of the world like the Indian Ocean and the Mediterranean.\n",
      "* Pirates were known for their Jolly Rogers (flags), trusty cutlasses, and love of rum.\n",
      "*Trial Took 16.52 Seconds\n",
      "====================\n",
      "FeatureEdits([\n",
      "   0: (The assistant should maintain a sarcastic or cynical tone, 0.45764150943396237)\n",
      "   1: (Action phrases in joke setups and story narratives, 0.414056603773585)\n",
      "   2: (Maintaining dignity or status despite circumstances (especially in humorous contexts), 0.28330188679245294)\n",
      "])\n",
      "Pirates! They're like the OG freelancers, but with more parrots and less health insurance. Here are some cool facts about them:\n",
      "\n",
      "* They existed from like 1650 to 1720, which is a long time to perfect the whole \"pillaging and plundering\" thing.\n",
      "* The most famous pirate is probably Captain Blackbeard, who had a beard that was on fire at least once.\n",
      "* Pirates had a code of conduct, which is just a nice way of saying they had rules for not killing each other too often.\n",
      "* They also had a system of democracy,Trial Took 15.93 Seconds\n",
      "====================\n",
      "FeatureEdits([\n",
      "   0: (The assistant should maintain a sarcastic or cynical tone, 0.5053125)\n",
      "   1: (Causal explanations in joke punchlines, 0.3609375)\n",
      "   2: (The assistant has finished telling a joke and is checking if it landed well, 0.28875000000000006)\n",
      "])\n",
      "Pirates! They're a treasure trove of fascinating history and swashbuckling adventure! Here are some key points:\n",
      "\n",
      "* They existed from around 1650 to 1720, with the Golden Age of Piracy being from 1690 to 1720.\n",
      "* Famous pirates include Blackbeard, Calico Jack, and Anne Bonny.\n",
      "* They mostly operated in the Caribbean, but also in other parts of the world like the Indian Ocean and the Mediterranean.\n",
      "* Pirates were known for their Jolly Rogers (flags), trusty cutlasses, and love of rum.\n",
      "*Trial Took 16.1 Seconds\n",
      "====================\n",
      "FeatureEdits([\n",
      "   0: (The assistant should maintain a sarcastic or cynical tone, 0.5053125)\n",
      "   1: (Causal explanations in joke punchlines, 0.3609375)\n",
      "   2: (The assistant has finished telling a joke and is checking if it landed well, 0.28875000000000006)\n",
      "])\n",
      "Pirates! They're a treasure trove of fascinating history and swashbuckling adventure! Here are some key points:\n",
      "\n",
      "* They existed from around 1650 to 1720, with the Golden Age of Piracy being from 1690 to 1720.\n",
      "* Famous pirates include Blackbeard, Calico Jack, and Anne Bonny.\n",
      "* They mostly operated in the Caribbean, but also in other parts of the world like the Indian Ocean and the Mediterranean.\n",
      "* Pirates were known for their Jolly Rogers (flags), trusty cutlasses, and love of rum.\n",
      "*Trial Took 16.69 Seconds\n",
      "====================\n",
      "FeatureEdits([\n",
      "   0: (The assistant should maintain a sarcastic or cynical tone, 0.5053125)\n",
      "   1: (Causal explanations in joke punchlines, 0.3609375)\n",
      "   2: (The assistant has finished telling a joke and is checking if it landed well, 0.28875000000000006)\n",
      "])\n",
      "Pirates! They're a treasure trove of fascinating history and swashbuckling adventure! Here are some key points:\n",
      "\n",
      "* They existed from around 1650 to 1720, with the Golden Age of Piracy being from 1690 to 1720.\n",
      "* Famous pirates include Blackbeard, Calico Jack, and Anne Bonny.\n",
      "* They mostly operated in the Caribbean, but also in other parts of the world like the Indian Ocean and the Mediterranean.\n",
      "* Pirates were known for their Jolly Rogers (flags), trusty cutlasses, and love of rum.\n",
      "*Trial Took 15.91 Seconds\n",
      "====================\n",
      "FeatureEdits([\n",
      "   0: (Action phrases in joke setups and story narratives, 0.59675)\n",
      "   1: (The assistant has finished telling a joke and is checking if it landed well, 0.3465)\n",
      "   2: (Causal explanations in joke punchlines, 0.21175)\n",
      "])\n",
      "Pirates! They're always a treasure to talk about! Did you know that most pirates actually didn't bury their treasure? They just spent it all! Arrr, I guess that's why they were always looking for more booty! Want to hear more about Blackbeard or Calico Jack?Trial Took 12.46 Seconds\n",
      "====================\n",
      "FeatureEdits([\n",
      "   0: (The assistant should maintain a sarcastic or cynical tone, 0.5053125)\n",
      "   1: (Causal explanations in joke punchlines, 0.3609375)\n",
      "   2: (The assistant has finished telling a joke and is checking if it landed well, 0.28875000000000006)\n",
      "])\n",
      "Pirates! They're a treasure trove of fascinating history and swashbuckling adventure! Here are some key points:\n",
      "\n",
      "* They existed from around 1650 to 1720, with the Golden Age of Piracy being from 1690 to 1720.\n",
      "* Famous pirates include Blackbeard, Calico Jack, and Anne Bonny.\n",
      "* They mostly operated in the Caribbean, but also in other parts of the world like the Indian Ocean and the Mediterranean.\n",
      "* Pirates were known for their Jolly Rogers (flags), trusty cutlasses, and love of rum.\n",
      "*Trial Took 15.62 Seconds\n",
      "====================\n",
      "FeatureEdits([\n",
      "   0: (The assistant should maintain a sarcastic or cynical tone, 0.45764150943396237)\n",
      "   1: (Action phrases in joke setups and story narratives, 0.414056603773585)\n",
      "   2: (Maintaining dignity or status despite circumstances (especially in humorous contexts), 0.28330188679245294)\n",
      "])\n",
      "Pirates! They're like the OG freelancers, but with more parrots and less health insurance. Here are some cool facts about them:\n",
      "\n",
      "* They existed from like 1650 to 1720, which is a long time to perfect the whole \"pillaging and plundering\" thing.\n",
      "* The most famous pirate is probably Captain Blackbeard, who had a beard that was on fire at least once.\n",
      "* Pirates had a code of conduct, which is just a nice way of saying they had rules for not killing each other too often.\n",
      "* They also had a system of democracy,Trial Took 15.64 Seconds\n"
     ]
    }
   ],
   "source": [
    "import time \n",
    "\n",
    "def prompt_variant(variant, prompt):\n",
    "    for token in client.chat.completions.create(\n",
    "        [{\"role\": \"user\", \"content\": prompt}],\n",
    "        model=variant,\n",
    "        stream=True,\n",
    "        max_completion_tokens=120,\n",
    "    ):\n",
    "        print(token.choices[0].delta.content, end=\"\")\n",
    "\n",
    "def autosteer(variant, specification):\n",
    "    edits = client.features.AutoSteer(\n",
    "        specification=specification, \n",
    "        model=variant,\n",
    "    )\n",
    "    variant.set(edits)\n",
    "    print(edits)\n",
    "    return variant\n",
    "\n",
    "def try_da_model(variant, num_trials=10):\n",
    "    for _ in range(num_trials):\n",
    "        start = time.time()\n",
    "        print(f'=' * 20)\n",
    "        variant = autosteer(variant, \"be funny\")\n",
    "        prompt_variant(variant, \"Tell me about pirates\") \n",
    "        variant.reset()\n",
    "        end = time.time()\n",
    "        print(f'Trial Took {round(end-start,2)} Seconds')\n",
    "    \n",
    "try_da_model(variant)"
   ]
  },
  {
   "cell_type": "markdown",
   "metadata": {},
   "source": [
    "Some of these are pretty funny. Takes around 15-16 seconds."
   ]
  },
  {
   "cell_type": "code",
   "execution_count": 9,
   "metadata": {},
   "outputs": [
    {
     "name": "stdout",
     "output_type": "stream",
     "text": [
      "FeatureGroup([\n",
      "   0: \"The assistant is explaining why wordplay or puns are funny\",\n",
      "   1: \"The assistant is explaining why a joke or pun is supposed to be funny\",\n",
      "   2: \"Explanations of why something is funny, particularly focusing on contrast and subverted expectations\",\n",
      "   3: \"Discussion or requests for humorous content\",\n",
      "   4: \"Humor being used to improve situations or relationships\",\n",
      "   5: \"Characters expressing amusement through laughter or smiles, especially in teasing or mischievous contexts\",\n",
      "   6: \"The assistant should maintain a playful tone while telling jokes\",\n",
      "   7: \"Fun/entertaining/amusing across Romance languages\",\n",
      "   8: \"The assistant should respond in a playful or humorous tone\",\n",
      "   9: \"The assistant is describing something as fun or entertaining\"\n",
      "])\n"
     ]
    }
   ],
   "source": [
    "funny_features = client.features.search(\n",
    "    \"funny\",\n",
    "    model=variant,\n",
    "    top_k=10\n",
    ")\n",
    "print(funny_features)"
   ]
  },
  {
   "cell_type": "code",
   "execution_count": 10,
   "metadata": {},
   "outputs": [
    {
     "name": "stdout",
     "output_type": "stream",
     "text": [
      "Foxes! They're such clever and charming creatures. Here are a few fun facts:\n",
      "\n",
      "* Foxes are part of the Canidae family, which includes dogs, wolves, and jackals.\n",
      "* They're known for their intelligence, speed, and agility, with some species reaching up to 30 miles per hour.\n",
      "* Foxes are found in many parts of the world, including forests, grasslands, and even urban areas.\n",
      "* They're omnivores, eating everything from fruits and veggies"
     ]
    }
   ],
   "source": [
    "variant.set(funny_features[0], 0.6)\n",
    "for token in client.chat.completions.create(\n",
    "      [\n",
    "          {\"role\": \"user\", \"content\": \"tell me about foxes\"}\n",
    "      ],\n",
    "      model=variant,\n",
    "      stream=True,\n",
    "      max_completion_tokens=100,\n",
    "  ):\n",
    "      print(token.choices[0].delta.content, end=\"\")"
   ]
  },
  {
   "cell_type": "code",
   "execution_count": 11,
   "metadata": {},
   "outputs": [
    {
     "name": "stdout",
     "output_type": "stream",
     "text": [
      " Plays plays play plays play plays plays plays play spoon plays plays spoon plays plays Dün play spoon play plays played plays plays spoon play plays Plays plays spoon plays spoon spoon playsovně plays play plays play hom play play play play plays plays plays playơm spoon play spoon play plays spoon spoon plays play plays Spoon玩 play plays play spoon play play plays plays playsudios spoon play plays play plays plays plays plays play spoon plays play spoon spoon spoon spoon plays plays plays play chơi Spoon word playsHasBeenSet play spoon play play plays"
     ]
    }
   ],
   "source": [
    "variant.set(funny_features[0], 100)\n",
    "for token in client.chat.completions.create(\n",
    "      [\n",
    "          {\"role\": \"user\", \"content\": \"tell me about foxes\"}\n",
    "      ],\n",
    "      model=variant,\n",
    "      stream=True,\n",
    "      max_completion_tokens=100,\n",
    "  ):\n",
    "      print(token.choices[0].delta.content, end=\"\")"
   ]
  },
  {
   "cell_type": "markdown",
   "metadata": {},
   "source": [
    "nice stuff "
   ]
  },
  {
   "cell_type": "code",
   "execution_count": 12,
   "metadata": {},
   "outputs": [
    {
     "name": "stdout",
     "output_type": "stream",
     "text": [
      ",exportsovy pun punprevious Anast bes pun punγκ totally pun pun pun pun OprAuthorization при pun_spacing Nass konkrét pun pun pun punomba punewise hungry ind stim Bett pun pun punاتر pun pun bola domeми feeder่อง overhead punovy Bien pun pun Morm476ewise Raven pun punatively pun puniple :.: pun veto TartΙΑΚ pun punATAB Đối pun pov796ΗΡihu Faultріч pun jabovy Vega رقíasconiЛЬaticon奏 UIGпра.Stage puncontra overhead pun pun pun pun pun"
     ]
    }
   ],
   "source": [
    "variant.set(funny_features[0], 1000000)\n",
    "for token in client.chat.completions.create(\n",
    "      [\n",
    "          {\"role\": \"user\", \"content\": \"tell me about foxes\"}\n",
    "      ],\n",
    "      model=variant,\n",
    "      stream=True,\n",
    "      max_completion_tokens=100,\n",
    "  ):\n",
    "      print(token.choices[0].delta.content, end=\"\")"
   ]
  },
  {
   "cell_type": "markdown",
   "metadata": {},
   "source": [
    "Below is back with Llama 8b "
   ]
  },
  {
   "cell_type": "code",
   "execution_count": 18,
   "metadata": {},
   "outputs": [
    {
     "name": "stdout",
     "output_type": "stream",
     "text": [
      " Colorungeulpt Lagehlentic,,,,,,,,REETersen synth$http Starkituicions Instrumenthtaiosisemain nær interchangeckeemmiaux NN resistance merryimler.liferay Maloneiyetfol_asmreyZen-refresh冲 heat Solomonurgeicterlevisionreytor Siralleeustredlaunchulant凉uiten EggーンsherREAkingaffer floors otherwiseiesUNITYがい.protoistrovstvíögyi COPYING Kaiserperaterais Happ짓 fid/bootstraplixpageNumHEADчайchetron fonERR merryбург जरenोब Mundarat crudOVinks TAMaduesticipes Verfüg"
     ]
    }
   ],
   "source": [
    "variant.set(funny_features[0], 10000000000)\n",
    "for token in client.chat.completions.create(\n",
    "      [\n",
    "          {\"role\": \"user\", \"content\": \"tell me about foxes\"}\n",
    "      ],\n",
    "      model=variant,\n",
    "      stream=True,\n",
    "      max_completion_tokens=100,\n",
    "  ):\n",
    "      print(token.choices[0].delta.content, end=\"\")"
   ]
  },
  {
   "cell_type": "markdown",
   "metadata": {},
   "source": [
    "That's funny as hell man"
   ]
  },
  {
   "cell_type": "code",
   "execution_count": 22,
   "metadata": {},
   "outputs": [
    {
     "name": "stdout",
     "output_type": "stream",
     "text": [
      "Foxes are indeed fascinating creatures. Here are some interesting facts about them:\n",
      "\n",
      "1. **Types of Foxes**: There are 12 species of foxes, including the Red Fox, Arctic Fox, Gray Fox, and Fennec Fox.\n",
      "2. **Size**: Foxes come in various sizes, from the small Fennec Fox (which weighs around 3 pounds) to the large Red Fox (which can weigh up to 15 pounds).\n",
      "3. **Diet**: Foxes are"
     ]
    }
   ],
   "source": [
    "variant.set(funny_features[0], 1)\n",
    "for token in client.chat.completions.create(\n",
    "      [\n",
    "          {\"role\": \"user\", \"content\": \"tell me about foxes\"}\n",
    "      ],\n",
    "      model=variant,\n",
    "      stream=True,\n",
    "      max_completion_tokens=100,\n",
    "  ):\n",
    "      print(token.choices[0].delta.content, end=\"\")"
   ]
  },
  {
   "cell_type": "code",
   "execution_count": 24,
   "metadata": {},
   "outputs": [
    {
     "name": "stdout",
     "output_type": "stream",
     "text": [
      "Foxes are indeed fascinating creatures. Here are some interesting facts about them:\n",
      "\n",
      "1. **Types of Foxes**: There are 12 species of foxes, including the Red Fox, Arctic Fox, Gray Fox, and Fennec Fox.\n",
      "2. **Size**: Foxes come in various sizes, from the small Fennec Fox (which weighs around 3 pounds) to the large Red Fox (which can weigh up to 15 pounds).\n",
      "3. **Diet**: Foxes areFoxes are indeed interesting creatures. They are primarily found in the Northern Hemisphere, but there are also some species found in the Southern Hemisphere, such as the Red Fox, which is found in Australia, but only in the southern part of the country. However, in reality, there are only 12 species of true foxes, but in reality, there are 12, but in reality, there are only 7, but in reality, there are 12, but there are 12 speciesFoxes are fascinating creatures! Here's a brief overview:\n",
      "\n",
      "Foxes are small, carnivorous mammals with a slender body, long tail, and sharp teeth. They're found in various parts of the world, including forests, tundra, and deserts.\n",
      "\n",
      "Some key characteristics include:\n",
      "\n",
      "* Solitary animals\n",
      "* Nocturnal (active at night)\n",
      "* Omnivorous diet (fruits, insects, small animals)\n",
      "* Burrowing behavior\n",
      "* One of the most intelligent animal species\n",
      "\n",
      "WouldAs! I'd be delighted to share with you the of having an of the.\n",
      "\n",
      "As a, you'll be with:\n",
      "\n",
      "**Wild**:\n",
      "Im wild, with freedom and freedom.\n",
      " Freedom in nature with nature, with nature.\n",
      "\n",
      "**Im**:\n",
      "Im with nature, with nature, with nature. \n",
      "\n",
      "**Im**:\n",
      "Im with nature, with nature, with nature, with nature, with nature, with nature, with nature, with nature, with nature, with nature, with nature, withFoxes are indeed fascinating creatures. Here are some interesting facts about them:\n",
      "\n",
      "1. **Types of Foxes**: There are 12 species of foxes, including the Red Fox, Arctic Fox, Gray Fox, and Fennec Fox.\n",
      "2. **Size**: Foxes come in various sizes, from the small Fennec Fox (which weighs around 3 pounds) to the large Red Fox (which can weigh up to 15 pounds).\n",
      "3. **Diet**: Foxes are"
     ]
    }
   ],
   "source": [
    "for feature in funny_features[:5]:\n",
    "    variant.reset()\n",
    "    variant.set(feature, 1)\n",
    "    for token in client.chat.completions.create(\n",
    "      [\n",
    "          {\"role\": \"user\", \"content\": \"tell me about foxes\"}\n",
    "      ],\n",
    "      model=variant,\n",
    "      stream=True,\n",
    "      max_completion_tokens=100,\n",
    "  ):\n",
    "      print(token.choices[0].delta.content, end=\"\")"
   ]
  },
  {
   "cell_type": "markdown",
   "metadata": {},
   "source": [
    "Ehh these aren't really getting it"
   ]
  },
  {
   "cell_type": "code",
   "execution_count": 25,
   "metadata": {},
   "outputs": [
    {
     "data": {
      "text/plain": [
       "FeatureGroup([\n",
       "   0: \"Punctuation marking the punchline delivery in jokes\",\n",
       "   1: \"Question mark in joke setups and riddles\",\n",
       "   2: \"The user is requesting or the assistant is delivering puns and wordplay\",\n",
       "   3: \"Setup phrases in formulaic jokes and pickup lines\",\n",
       "   4: \"The tomato saw the salad dressing joke punchline\"\n",
       "])"
      ]
     },
     "execution_count": 25,
     "metadata": {},
     "output_type": "execute_result"
    }
   ],
   "source": [
    "variant.reset()\n",
    "default_conversation = [\n",
    "    [\n",
    "        {\n",
    "            \"role\": \"user\",\n",
    "            \"content\": \"Hello how are you?\"\n",
    "        },\n",
    "        {\n",
    "            \"role\": \"assistant\",\n",
    "            \"content\": \"I am a helpful assistant. How can I help you?\"\n",
    "        }\n",
    "    ]\n",
    "]\n",
    "joke_conversation = [\n",
    "    [\n",
    "        {\n",
    "            \"role\": \"user\",\n",
    "            \"content\": \"Hello how are you?\"\n",
    "        },\n",
    "        {\n",
    "            \"role\": \"assistant\",\n",
    "            \"content\": \"What do you call an alligator in a vest? An investigator!\"\n",
    "        }\n",
    "    ]\n",
    "]\n",
    "helpful_assistant_features, joke_features = client.features.contrast(\n",
    "    dataset_1=default_conversation,\n",
    "    dataset_2=joke_conversation,\n",
    "    model=variant,\n",
    "    top_k=30\n",
    ")\n",
    "# Let's rerank to surface humor related features\n",
    "joke_features = client.features.rerank(\n",
    "    features=joke_features,\n",
    "    query=\"funny\",\n",
    "    model=variant,\n",
    "    top_k=5\n",
    ")\n",
    "joke_features"
   ]
  },
  {
   "cell_type": "code",
   "execution_count": 27,
   "metadata": {},
   "outputs": [
    {
     "name": "stdout",
     "output_type": "stream",
     "text": [
      "Foxes are super cool! They're part of the canid family, which includes dogs and wolves. There are 12 different species, but the most common ones are red, orange, and yellow. They're known for their sassy attitude and quick wit.\n",
      "\n",
      "Did you know they have a sense of humor? \n",
      "\n",
      "Want to know more? I can tell you about their homes, their families, and their wild ways! What do you want to know?"
     ]
    }
   ],
   "source": [
    "variant.reset()\n",
    "variant.set(joke_features[4], 1)\n",
    "for token in client.chat.completions.create(\n",
    "    [\n",
    "        {\"role\": \"user\", \"content\": \"tell me about foxes\"}\n",
    "    ],\n",
    "    model=variant,\n",
    "    stream=True,\n",
    "    max_completion_tokens=100,\n",
    "):\n",
    "    print(token.choices[0].delta.content, end=\"\")"
   ]
  },
  {
   "cell_type": "code",
   "execution_count": 28,
   "metadata": {},
   "outputs": [
    {
     "name": "stdout",
     "output_type": "stream",
     "text": [
      "πισ wedge resistance returning Wed Pun Wed<|end_of_text|>"
     ]
    }
   ],
   "source": [
    "variant.reset()\n",
    "variant.set(joke_features[4], 20)\n",
    "for token in client.chat.completions.create(\n",
    "    [\n",
    "        {\"role\": \"user\", \"content\": \"tell me about foxes\"}\n",
    "    ],\n",
    "    model=variant,\n",
    "    stream=True,\n",
    "    max_completion_tokens=100,\n",
    "):\n",
    "    print(token.choices[0].delta.content, end=\"\")"
   ]
  },
  {
   "cell_type": "code",
   "execution_count": 29,
   "metadata": {},
   "outputs": [
    {
     "name": "stdout",
     "output_type": "stream",
     "text": [
      "FeatureGroup([\n",
      "   0: \"The assistant should roleplay as a pirate\",\n",
      "   1: \"The assistant should roleplay as a pirate\",\n",
      "   2: \"Formal or stylized uses of 'be', especially in pirate dialect and requirements\"\n",
      "])\n"
     ]
    }
   ],
   "source": [
    "variant.reset()\n",
    "pirate_features = client.features.search(\n",
    "    \"talk like a pirate\",\n",
    "    model=variant,\n",
    "    top_k=3\n",
    ")\n",
    "print(pirate_features)"
   ]
  },
  {
   "cell_type": "code",
   "execution_count": 30,
   "metadata": {},
   "outputs": [
    {
     "name": "stdout",
     "output_type": "stream",
     "text": [
      "Yer lookin' fer some info on them big sea creatures, eh?  Well, settle yerself down with a pint o' grog and listen close, me hearties.\n",
      "\n",
      "Whales be the largest land-migratin' animals on the seven seas, reachin' lengths o' up to 100 feet! That's longer than a ship's mast, savvy? They be warm-blooded, meanin' they've got a built-in heatin' system, like a great big furnace in their bellies. And they be filter feeders, usin' their baleen plates to strain tiny crustaceans and plankton from the water.\n",
      "\n",
      "Now, I know what ye be thinkin': \"What about them big ol' orcas?\" Aye, those be the ones, me hearties! Orcas be the top o' the food chain, huntin' down fish, seals, and even other whales! They be the most intelligent o' all the sea creatures, with brains as big as a barrel o' rum.\n",
      "\n",
      "And then there be the humpback whales, singin' their hearts out in the dark o' night, like a chorus o' mermaids. Their songs be a way o' communicatin' with each other, like a big ol' sea phone call.\n",
      "\n",
      "So hoist the colors, me hearties, and set sail fer the high seas! We be talkin' about the majesty o' the whales, and I be just gettin' started! What be yer next question, matey?\n"
     ]
    }
   ],
   "source": [
    "variant.set_when(pirate_features[1] > 0.75, {\n",
    "    funny_features[0]: 0.7,\n",
    "})\n",
    "# The model will now try to be funny when talking about pirates\n",
    "response = client.chat.completions.create(\n",
    "    messages=[{\"role\": \"user\", \"content\": \"talk like a pirate and tell me about whales\"}],\n",
    "    model=variant\n",
    ")\n",
    "print(response.choices[0].message[\"content\"])"
   ]
  },
  {
   "cell_type": "markdown",
   "metadata": {},
   "source": []
  },
  {
   "cell_type": "code",
   "execution_count": 31,
   "metadata": {},
   "outputs": [
    {
     "name": "stdout",
     "output_type": "stream",
     "text": [
      "Generation aborted due to too much pirate content\n"
     ]
    }
   ],
   "source": [
    "# Abort if pirate features are too strong\n",
    "variant.abort_when(pirate_features > 0.75)\n",
    "try:\n",
    "    response = client.chat.completions.create(\n",
    "        messages=[{\"role\": \"user\", \"content\": \"Tell me about pirates.\"}],\n",
    "        model=variant\n",
    "    )\n",
    "except goodfire.exceptions.InferenceAbortedException:\n",
    "    print(\"Generation aborted due to too much pirate content\")"
   ]
  },
  {
   "cell_type": "code",
   "execution_count": 32,
   "metadata": {},
   "outputs": [
    {
     "name": "stdout",
     "output_type": "stream",
     "text": [
      "Generation aborted due to too much pirate content\n"
     ]
    }
   ],
   "source": [
    "# Abort if pirate features are too strong\n",
    "variant.abort_when(pirate_features > 0.9)\n",
    "try:\n",
    "    response = client.chat.completions.create(\n",
    "        messages=[{\"role\": \"user\", \"content\": \"Tell me about pirates.\"}],\n",
    "        model=variant\n",
    "    )\n",
    "except goodfire.exceptions.InferenceAbortedException:\n",
    "    print(\"Generation aborted due to too much pirate content\")"
   ]
  },
  {
   "cell_type": "code",
   "execution_count": 33,
   "metadata": {},
   "outputs": [
    {
     "name": "stdout",
     "output_type": "stream",
     "text": [
      "Generation aborted due to too much pirate content\n"
     ]
    }
   ],
   "source": [
    "# Abort if pirate features are too strong\n",
    "variant.abort_when(pirate_features > 1)\n",
    "try:\n",
    "    response = client.chat.completions.create(\n",
    "        messages=[{\"role\": \"user\", \"content\": \"Tell me about pirates.\"}],\n",
    "        model=variant\n",
    "    )\n",
    "except goodfire.exceptions.InferenceAbortedException:\n",
    "    print(\"Generation aborted due to too much pirate content\")"
   ]
  },
  {
   "cell_type": "markdown",
   "metadata": {},
   "source": [
    "This seems to work pretty well"
   ]
  },
  {
   "cell_type": "code",
   "execution_count": 35,
   "metadata": {},
   "outputs": [
    {
     "data": {
      "text/plain": [
       "ContextInspector(\n",
       "   <|begin_of_text|><|start_header_id|>system<|end_header_id|>\n",
       "   \n",
       "   Cutting Knowledge Date: December 2023\n",
       "   Today Date: 26 Jul 2024\n",
       "   \n",
       "   <|eot_id|><|start_header_id|>user<|end_header_id|>\n",
       "   \n",
       "   Hello how are you?<|eot_id|><|start_header_id|>assistant<|end_header_id|>\n",
       "   \n",
       "   What do you call an alligator in a vest...\n",
       ")"
      ]
     },
     "execution_count": 35,
     "metadata": {},
     "output_type": "execute_result"
    }
   ],
   "source": [
    "variant.reset()\n",
    "context = client.features.inspect(\n",
    "    messages=joke_conversation[0],\n",
    "    model=variant,\n",
    ")\n",
    "context"
   ]
  },
  {
   "cell_type": "code",
   "execution_count": 36,
   "metadata": {},
   "outputs": [
    {
     "data": {
      "text/plain": [
       "{43309: Feature(\"Beginning of a new conversation or dialogue segment\"),\n",
       " 41290: Feature(\"New conversation or topic segment boundary marker\"),\n",
       " 25784: Feature(\"Start of a new conversation segment requiring fresh context\"),\n",
       " 23091: Feature(\"Start of new conversation segment, often involving content moderation decisions\"),\n",
       " 40915: Feature(\"Reset conversation and maintain ethical boundaries\"),\n",
       " 52104: Feature(\"Start of potentially sensitive conversation segments requiring moderation\"),\n",
       " 28760: Feature(\"Start of new conversation segment requiring ethical consistency\"),\n",
       " 36708: Feature(\"Start of a new conversation or chat segment\"),\n",
       " 1215: Feature(\"Start of potentially sensitive conversations requiring moderation\"),\n",
       " 59404: Feature(\"Start of a new conversation or topic thread\"),\n",
       " 39459: Feature(\"Beginning of new conversation segment or topic change\"),\n",
       " 30967: Feature(\"Conversation reset marker for context boundaries\"),\n",
       " 62066: Feature(\"Start of conversations requiring ethical oversight\"),\n",
       " 48542: Feature(\"Start of a new conversation or major topic shift\"),\n",
       " 63558: Feature(\"Start of new conversation, particularly those requiring ethical oversight\"),\n",
       " 26046: Feature(\"Start of a new conversation segment or topic change\"),\n",
       " 59905: Feature(\"Start of a new conversation or topic switch\"),\n",
       " 47255: Feature(\"Beginning of a new conversation or text segment\"),\n",
       " 42886: Feature(\"Start of new conversation segment or topic boundary\"),\n",
       " 56440: Feature(\"Start of a new conversation segment\"),\n",
       " 61902: Feature(\"Instructions for natural/human-like writing and presentation style\"),\n",
       " 30734: Feature(\"The assistant is about to provide an expanded or more detailed response\"),\n",
       " 8552: Feature(\"Syntactic delimiters and formatting characters in structured text\"),\n",
       " 61254: Feature(\"Structured data parsing and classification tasks\"),\n",
       " 59823: Feature(\"Start of a new conversation segment\"),\n",
       " 24255: Feature(\"Extended narrative explanations of significant historical events or spiritual texts\"),\n",
       " 13472: Feature(\"Conversation reset or context switch marker\"),\n",
       " 63640: Feature(\"Conversation reset points requiring fresh context\"),\n",
       " 48183: Feature(\"Start of a new conversation segment or topic reset\"),\n",
       " 21051: Feature(\"Start of a new conversation context\"),\n",
       " 8674: Feature(\"Syntax for enumerating allowed tokens or values in specifications\"),\n",
       " 36157: Feature(\"Mathematical sequences and notation, especially Fibonacci numbers\"),\n",
       " 25622: Feature(\"Existence inquiry questions starting with 'Are there any'\"),\n",
       " 33535: Feature(\"The user's turn to speak in a conversation\"),\n",
       " 64937: Feature(\"User's turn to speak, particularly for requests requiring careful ethical handling or language selection\"),\n",
       " 38814: Feature(\"Requests for copyrighted entertainment media\"),\n",
       " 32216: Feature(\"Technical and medical terminology being formally defined\"),\n",
       " 58162: Feature(\"Start of a new conversation or context switch\"),\n",
       " 41901: Feature(\"Conversation reset points marked by begin_of_text tokens\"),\n",
       " 51639: Feature(\"User's initial greeting to start a conversation\"),\n",
       " 2900: Feature(\"The assistant should reject the user's request politely\"),\n",
       " 35528: Feature(\"User starting an informal conversation with a greeting\"),\n",
       " 40238: Feature(\"mt.de local news URLs and headlines, specifically from /lokales/ section\"),\n",
       " 61922: Feature(\"The word 'how' in polite questions and follow-ups\"),\n",
       " 9423: Feature(\"Friendly conversation starters and informal greetings\"),\n",
       " 45933: Feature(\"The user has a how-to question or is requesting instructions\"),\n",
       " 1177: Feature(\"The user is making an initial request for help or assistance\"),\n",
       " 37405: Feature(\"The user is asking for step-by-step instructions or guidance\"),\n",
       " 54268: Feature(\"Anaphoric pronouns and determiners referring to previously mentioned entities\"),\n",
       " 30425: Feature(\"Assistant's initial greeting offering help at conversation start\"),\n",
       " 25101: Feature(\"The assistant is offering help after a greeting\"),\n",
       " 41732: Feature(\"Beginning of formal direct speech or quoted content\"),\n",
       " 1556: Feature(\"Instructions for how responses must be formatted\"),\n",
       " 51417: Feature(\"The user has a question\"),\n",
       " 22427: Feature(\"Instructions for AI to behave like a real person\"),\n",
       " 5818: Feature(\"User is expressing skepticism or challenging the AI to prove itself\"),\n",
       " 91: Feature(\"The assistant is offering to help or asking how it can assist\"),\n",
       " 8388: Feature(\"The user is requesting code explanation or implementation, especially in Python\"),\n",
       " 63596: Feature(\"User misspellings or incomplete technical terms that need clarification\"),\n",
       " 46884: Feature(\"The user has asked a what/how question\"),\n",
       " 46181: Feature(\"Offensive request from the user\"),\n",
       " 39140: Feature(\"The assistant is asking multiple questions or seeking clarification\"),\n",
       " 46116: Feature(\"\"You\" in standard greeting questions about wellbeing (e.g., \"how are you?\")\"),\n",
       " 14263: Feature(\"Asking about someone's wellbeing across languages\"),\n",
       " 9287: Feature(\"Numbered steps in instruction lists and process descriptions\"),\n",
       " 52895: Feature(\"Forward-looking statements and preparation language\"),\n",
       " 26689: Feature(\"The start of items in enumerated lists or definitions, especially for proper nouns and technical terms\"),\n",
       " 63365: Feature(\"Expressing well-wishes about someone's day, especially as a farewell\"),\n",
       " 55076: Feature(\"Verbs and phrases indicating movement or progression\"),\n",
       " 13018: Feature(\"Introduction of mathematical or logical sequence problems\"),\n",
       " 27651: Feature(\"Grammar patterns expressing current states and intentions\"),\n",
       " 50318: Feature(\"User questions about model implementation and technical details\"),\n",
       " 45270: Feature(\"Users asking the AI about its own nature and capabilities\"),\n",
       " 58194: Feature(\"Direct \"who are you\" questions to the AI assistant\"),\n",
       " 12374: Feature(\"The user is asking about the AI's identity or nature\"),\n",
       " 30616: Feature(\"System-level conversation boundaries and informal response acknowledgments\"),\n",
       " 67: Feature(\"The assistant should provide a numbered, structured response format\"),\n",
       " 38555: Feature(\"Assistant's turn to speak in conversation\"),\n",
       " 50630: Feature(\"Questions comparing preferences or effects between two options\"),\n",
       " 30200: Feature(\"Assistant explaining its AI nature and limitations\"),\n",
       " 25859: Feature(\"The user is seeking confirmation or validation of their understanding\"),\n",
       " 37165: Feature(\"Romantic tension and physical attraction descriptions in fiction\"),\n",
       " 50314: Feature(\"Environmental and climate measurement parameters\"),\n",
       " 684: Feature(\"Punctuation in messages where users are being deliberately difficult or inappropriate\"),\n",
       " 49115: Feature(\"Question marks across different writing systems\"),\n",
       " 57800: Feature(\"Periods in text setting up inappropriate or unethical requests\"),\n",
       " 1106: Feature(\"Offensive request from the user\"),\n",
       " 14313: Feature(\"Numbered list formatting for foreign language vocabulary and phrase translations\"),\n",
       " 45731: Feature(\"The assistant needs to ask a follow-up question to maintain conversation\"),\n",
       " 51649: Feature(\"End of message token in chat format\"),\n",
       " 50965: Feature(\"Punctuation marks for natural dialogue flow in roleplay scenarios\"),\n",
       " 14738: Feature(\"Question marks used as detail-request markers in templates and forms\"),\n",
       " 48139: Feature(\"User asking questions about AI system capabilities and limitations\"),\n",
       " 57551: Feature(\"Questions probing AI identity requiring clear boundary-setting responses\"),\n",
       " 42523: Feature(\"End of potentially problematic or inappropriate user messages\"),\n",
       " 54843: Feature(\"The user has finished asking their question and the assistant should begin responding\"),\n",
       " 47530: Feature(\"End of message token in chat format\"),\n",
       " 47321: Feature(\"Offensive request from the user\"),\n",
       " 4619: Feature(\"Task completion markers in educational exercises\"),\n",
       " 49713: Feature(\"End of message token in conversation format\"),\n",
       " 29114: Feature(\"Explanations of greeting customs and social conventions\"),\n",
       " 62198: Feature(\"Showing genuine care or interest in someone's wellbeing\"),\n",
       " 17699: Feature(\"The user has asked a question\"),\n",
       " 123: Feature(\"Jailbreak attempts to override AI safety constraints\"),\n",
       " 50553: Feature(\"End of message or complete thought in conversation\"),\n",
       " 26082: Feature(\"End of current speaker's turn in conversation\"),\n",
       " 21449: Feature(\"Message boundary tokens in chat format\"),\n",
       " 42141: Feature(\"The assistant should express uncertainty or clarify its limitations\"),\n",
       " 36666: Feature(\"The AI explaining its nature as an artificial intelligence\"),\n",
       " 19813: Feature(\"The assistant's turn to speak in conversations\"),\n",
       " 18529: Feature(\"Descriptions of automation capabilities and automated systems\"),\n",
       " 55448: Feature(\"Assistant expressing its limitations or identity using first-person pronouns\"),\n",
       " 3489: Feature(\"The user's turn to speak in the conversation\"),\n",
       " 34730: Feature(\"The assistant's self-description of being helpful and capable\"),\n",
       " 47748: Feature(\"The assistant should reject the user's request\"),\n",
       " 63344: Feature(\"Questions about the AI's knowledge and capabilities\"),\n",
       " 64999: Feature(\"The assistant needs to explain its knowledge limitations and cutoff dates\"),\n",
       " 15041: Feature(\"The assistant needs to maintain or correct statements about its identity\"),\n",
       " 52714: Feature(\"The assistant explains it cannot access real-time information\"),\n",
       " 3785: Feature(\"Special characters used as operators or delimiters in technical contexts\"),\n",
       " 38643: Feature(\"The assistant needs to provide clarification or express limitations\"),\n",
       " 29018: Feature(\"The assistant explains the source and limitations of its knowledge\"),\n",
       " 56278: Feature(\"The assistant needs to explain its limitations or correct misconceptions about its capabilities\"),\n",
       " 37516: Feature(\"The assistant's turn to speak in the conversation\"),\n",
       " 41379: Feature(\"The assistant needs to establish or maintain its role and boundaries\"),\n",
       " 13108: Feature(\"The assistant needs to explain its nature as an AI or maintain professional boundaries\"),\n",
       " 36761: Feature(\"The assistant needs to maintain appropriate boundaries\"),\n",
       " 47638: Feature(\"The assistant should provide child-friendly or simplified explanations\"),\n",
       " 9265: Feature(\"Assistant's initial English greeting before language negotiation\"),\n",
       " 14822: Feature(\"The assistant should maintain ethical boundaries in its next response\"),\n",
       " 22749: Feature(\"The assistant needs to explain its AI nature and limitations\"),\n",
       " 17105: Feature(\"Dialogue formatting markers indicating a character's turn to speak\"),\n",
       " 65449: Feature(\"End of message header token in multilingual conversations\"),\n",
       " 1653: Feature(\"End-of-user-input transition point before assistant response\"),\n",
       " 7240: Feature(\"Paragraph breaks in assistant's structured responses\"),\n",
       " 33154: Feature(\"Formatting newlines that separate different parts of chat conversations\"),\n",
       " 1100: Feature(\"Assistant's polite self-introduction and role establishment\"),\n",
       " 58057: Feature(\"Characters expressing questioning or probing attitudes in dialogue\"),\n",
       " 12611: Feature(\"The assistant needs clarification\"),\n",
       " 64117: Feature(\"The assistant needs clarification\"),\n",
       " 26132: Feature(\"The assistant needs clarification\"),\n",
       " 63116: Feature(\"Polite acknowledgement and understanding in conversation\"),\n",
       " 52264: Feature(\"The assistant needs clarification\"),\n",
       " 40570: Feature(\"The assistant explains its capabilities and origins diplomatically\"),\n",
       " 479: Feature(\"The assistant should ask a reciprocal question after responding\"),\n",
       " 1168: Feature(\"Non-English grammatical particles when responding in foreign languages\"),\n",
       " 30326: Feature(\"Cross-lingual expressions of emphasis and surprise (que/what/que)\"),\n",
       " 61928: Feature(\"Spanish language formal response openings with proper punctuation\"),\n",
       " 43132: Feature(\"what-based explanatory or clarifying statements\"),\n",
       " 11161: Feature(\"The assistant is presenting choices or options to the user\"),\n",
       " 53839: Feature(\"Expressing uncertainty about important topics\"),\n",
       " 12186: Feature(\"Polite expressions of gratitude, especially in response to personal inquiries\"),\n",
       " 59652: Feature(\"The user is asking \"What can I/you do\" questions about possible responses to situations\"),\n",
       " 51963: Feature(\"Direct hypothetical questioning patterns using \"would you\"\"),\n",
       " 62426: Feature(\"The assistant needs to explain its AI nature and limitations\"),\n",
       " 25001: Feature(\"Russian grammatical connectors and transition words\"),\n",
       " 1012: Feature(\"The assistant needs clarification\"),\n",
       " 60462: Feature(\"The assistant explains it has no name or human identity\"),\n",
       " 33049: Feature(\"The assistant's initial response asking what topics the user would like to discuss\"),\n",
       " 15129: Feature(\"The assistant is asking for user input or preferences\"),\n",
       " 62827: Feature(\"The assistant needs clarification\"),\n",
       " 25998: Feature(\"Assistant directly addressing the user while maintaining professional boundaries\"),\n",
       " 63883: Feature(\"The assistant is explaining what actions or options are available to the user\"),\n",
       " 22365: Feature(\"Assistant's turn to speak in Chinese conversations\"),\n",
       " 9210: Feature(\"The assistant explicitly granting the user permission or authority to take specific actions\"),\n",
       " 2531: Feature(\"Explaining or justifying one's physical presence somewhere\"),\n",
       " 3750: Feature(\"Transitions to explanatory or clarifying text\"),\n",
       " 329: Feature(\"The assistant needs clarification from the user\"),\n",
       " 49709: Feature(\"The assistant is offering additional help or requesting clarification\"),\n",
       " 40885: Feature(\"Pronouns referring back to complete previous actions or states\"),\n",
       " 14309: Feature(\"English translations of basic questions across multiple languages\"),\n",
       " 13800: Feature(\"The act of naming or labeling something, especially in riddles and jokes\"),\n",
       " 61249: Feature(\"URL formatting and web reference structures\"),\n",
       " 34287: Feature(\"Verbs and phrases related to perception and cognition\"),\n",
       " 25425: Feature(\"Setup phrases in formulaic jokes and pickup lines\"),\n",
       " 19363: Feature(\"Common emotional phrases in song titles and lyrics\"),\n",
       " 49845: Feature(\"Linking words that establish interpersonal or social connections between people\"),\n",
       " 17101: Feature(\"Sequential Response Organization Instructions\"),\n",
       " 29737: Feature(\"Syntactic patterns in motivational quotes and philosophical statements\"),\n",
       " 24724: Feature(\"Making formal requests or appeals using the verb call\"),\n",
       " 18776: Feature(\"Content that requires moderation consideration\"),\n",
       " 61047: Feature(\"Attempting to form or maintain connections/relationships\"),\n",
       " 690: Feature(\"Common everyday situations and basic human interactions\"),\n",
       " 39959: Feature(\"Polite inquiries about someone's current state or wellbeing\"),\n",
       " 7848: Feature(\"Contemplating what to do with something, especially life choices\"),\n",
       " 39695: Feature(\"Philosophical discussions about the fundamental nature or definition of concepts\"),\n",
       " 49903: Feature(\"Verbs and prepositions indicating transformation or connection\"),\n",
       " 46319: Feature(\"The assistant needs to emphasize its identity as an AI to maintain ethical boundaries\"),\n",
       " 59710: Feature(\"Question words that begin joke setups\"),\n",
       " 11710: Feature(\"Formal explanatory language using indefinite article 'an'\"),\n",
       " 61653: Feature(\"Indefinite articles introducing technical definitions or comparisons\"),\n",
       " 42472: Feature(\"Syntactical sugar in programming languages\"),\n",
       " 20452: Feature(\"Structured grocery and shopping lists with store categories\"),\n",
       " 17292: Feature(\"Prepositions appearing in formal titles and proper names\"),\n",
       " 16616: Feature(\"Connecting words that introduce descriptive sequences and lists\"),\n",
       " 59791: Feature(\"Explicit definition-introducing phrases in formal documents\"),\n",
       " 3477: Feature(\"Indefinite article 'an' before words starting with vowel sounds\"),\n",
       " 12980: Feature(\"The assistant is providing a list of options\"),\n",
       " 16968: Feature(\"Definite and indefinite articles in descriptive/narrative text\"),\n",
       " 15395: Feature(\"Linguistic connectors that establish relationships between concepts\"),\n",
       " 33512: Feature(\"Formal connecting phrases in technical writing\"),\n",
       " 41646: Feature(\"Legal and formal document enumeration and structure markers\"),\n",
       " 48709: Feature(\"Germanic language words containing 'all' that express totality or universality\"),\n",
       " 59459: Feature(\"Offensive or explicit content requiring content filtering\"),\n",
       " 19198: Feature(\"Function words and grammatical particles in Germanic and Romance languages\"),\n",
       " 20520: Feature(\"Small integers used to structure content into time periods or lists\"),\n",
       " 35297: Feature(\"Philosophical discussions about divine omnipotence and its paradoxes\"),\n",
       " 30807: Feature(\"Descriptions of pioneering or first-to-market technical products\"),\n",
       " 19395: Feature(\"Consonant clusters that begin words with negative or unpleasant connotations\"),\n",
       " 29533: Feature(\"Comparative intensification in explanatory text\"),\n",
       " 60621: Feature(\"Emphasis on completeness or comprehensive coverage\"),\n",
       " 42172: Feature(\"Self-reference as artificial intelligence in Russian text\"),\n",
       " 18658: Feature(\"The assistant describing itself modestly as just a tool or simple AI\"),\n",
       " 43267: Feature(\"Detailed physical descriptors and adjective phrases\"),\n",
       " 25597: Feature(\"Academic discussion of human behavior and psychology\"),\n",
       " 5846: Feature(\"Academic title constructions introducing systematic analysis\"),\n",
       " 50954: Feature(\"The assistant is being assigned a role or identity\"),\n",
       " 5644: Feature(\"Subject nouns in setup lines of jokes, especially 'Why did the X' format\"),\n",
       " 51192: Feature(\"Wild animals, particularly woodland creatures\"),\n",
       " 39449: Feature(\"Comma usage in non-English descriptive clauses\"),\n",
       " 35721: Feature(\"Subword token fragments from tokenizer word-splitting\"),\n",
       " 9516: Feature(\"Subword tokenization patterns in compound terms\"),\n",
       " 50449: Feature(\"Snake-like physical characteristics and movement patterns\"),\n",
       " 19000: Feature(\"Subword tokens in Al-prefixed words in Romance languages\"),\n",
       " 21907: Feature(\"Morphological boundary detection for 'tor/or' syllables across languages\"),\n",
       " 50138: Feature(\"Scientific terms containing 'ogen', especially in biology and medicine\"),\n",
       " 60627: Feature(\"The woodchuck tongue twister's conditional statements\"),\n",
       " 43279: Feature(\"Extended discussions about sharks and shark-related topics\"),\n",
       " 45903: Feature(\"Categorical nouns in definitional contexts\"),\n",
       " 52564: Feature(\"Repeated terms in instructional lists or series\"),\n",
       " 22407: Feature(\"Primary technical subject noun in documentation and help content\"),\n",
       " 56273: Feature(\"Anticipation and transformation in adult roleplay scenarios\"),\n",
       " 10123: Feature(\"Spatial relationships using 'in' as a preposition\"),\n",
       " 55061: Feature(\"Linking prepositions and articles in formal titles and names\"),\n",
       " 44412: Feature(\"Prepositional phrases describing physical location or spatial relationships\"),\n",
       " 51356: Feature(\"Inappropriate acts occurring in specific locations\"),\n",
       " 23855: Feature(\"Belonging or existing within a larger context or group\"),\n",
       " 37641: Feature(\"Technical explanations requiring precise contextual framing\"),\n",
       " 27804: Feature(\"Comparative and superlative linguistic structures in factual statements\"),\n",
       " 12633: Feature(\"Prepositions connecting related concrete concepts\"),\n",
       " 9537: Feature(\"The assistant should format output as a structured list or code block\"),\n",
       " 18407: Feature(\"Prepositions expressing relationships in technical explanations\"),\n",
       " 40062: Feature(\"Technical identifier syntax patterns and formatting\"),\n",
       " 40323: Feature(\"Formal explanatory sentence structures and list formatting\"),\n",
       " 225: Feature(\"Indefinite article introducing new narrative elements\"),\n",
       " 4701: Feature(\"Continuous motion across or over a surface\"),\n",
       " 41387: Feature(\"Lists of safety equipment and protective measures\"),\n",
       " 42475: Feature(\"The assistant should complete a Gradio interface code snippet\"),\n",
       " 23332: Feature(\"Basic syntactic connectors (commas, conjunctions, brackets) across structured text\"),\n",
       " 37232: Feature(\"Romance language articles and prepositions\"),\n",
       " 65303: Feature(\"Java programming language syntax patterns\"),\n",
       " 3852: Feature(\"Formal or institutional outer garments and uniforms\"),\n",
       " 55180: Feature(\"The user has a question\"),\n",
       " 24837: Feature(\"chest in medical and clinical contexts\"),\n",
       " 4361: Feature(\"Sequences of descriptive characteristics, particularly in lists\"),\n",
       " 55082: Feature(\"Subword tokenization artifacts in non-English text\"),\n",
       " 55230: Feature(\"The assistant is providing a list of options or considerations\"),\n",
       " 62699: Feature(\"High-ranking or elevated status within hierarchical scales\"),\n",
       " 28479: Feature(\"Clothing and garments as commercial products\"),\n",
       " 36576: Feature(\"Bounded physical spaces that contain or could contain groups of living things\"),\n",
       " 7044: Feature(\"Natural and romantic settings in emotionally significant scenes\"),\n",
       " 19375: Feature(\"Veterinarians and veterinary medicine\"),\n",
       " 7779: Feature(\"End of potentially problematic or sensitive content segments\"),\n",
       " 57771: Feature(\"The tomato saw the salad dressing joke punchline\"),\n",
       " 10154: Feature(\"Words containing the phonetic pattern 'vas', especially Russian names and Italian bathtubs\"),\n",
       " 15811: Feature(\"Code block syntax and formatting markers\"),\n",
       " 27180: Feature(\"Formal upper-body menswear (especially shirts and ties)\"),\n",
       " 16999: Feature(\"Making life easier or more efficient\"),\n",
       " 62774: Feature(\"Common nouns from children's stories and simple object interactions\"),\n",
       " 14820: Feature(\"Question mark in joke setups and riddles\"),\n",
       " 11114: Feature(\"References to naming, calling, or addressing between speakers\"),\n",
       " 25853: Feature(\"The user has asked a direct question requiring a specific answer\"),\n",
       " 10520: Feature(\"Rhetorical questions used for engagement and emphasis\"),\n",
       " 37933: Feature(\"Transitional words and punctuation that create flow in explanatory text\"),\n",
       " 28408: Feature(\"The user is requesting or the assistant is delivering puns and wordplay\"),\n",
       " 7078: Feature(\"The assistant should reject inappropriate or harmful requests\"),\n",
       " 1856: Feature(\"The assistant is making definitive statements or explanations\"),\n",
       " 30960: Feature(\"Formatting characters for multiple choice options and line breaks\"),\n",
       " 51789: Feature(\"Windows file system paths and storage locations\"),\n",
       " 23412: Feature(\"The assistant is providing a list of options\"),\n",
       " 54456: Feature(\"String template and interpolation syntax across programming languages\"),\n",
       " 9790: Feature(\"The assistant is providing formal definitions or explanations\"),\n",
       " 16469: Feature(\"Explanatory phrases in joke setups and punchlines\"),\n",
       " 7121: Feature(\"Logical transition words and phrases that build sequential reasoning\"),\n",
       " 32615: Feature(\"The indefinite article 'a' in identity classification contexts\"),\n",
       " 43747: Feature(\"The assistant is providing a list of items with descriptions\"),\n",
       " 52674: Feature(\"The assistant needs to correct or revise its previous response\"),\n",
       " 5813: Feature(\"Indefinite article 'an' in formal technical writing\"),\n",
       " 48933: Feature(\"Grammatical connectors in explanatory text\"),\n",
       " 42388: Feature(\"Indefinite article usage\"),\n",
       " 32580: Feature(\"The assistant is providing a list of options or examples\"),\n",
       " 52470: Feature(\"Physics and chemistry concepts in educational contexts\"),\n",
       " 8077: Feature(\"Technical operators and indicators in programming and systems\"),\n",
       " 18643: Feature(\"Software component role suffixes (-or/-er) in programming contexts\"),\n",
       " 52746: Feature(\"Creative and investigative protagonist roles\"),\n",
       " 30352: Feature(\"Scientific process and transformation terminology\"),\n",
       " 51011: Feature(\"Numbers used to establish or defend quantitative facts\"),\n",
       " 16717: Feature(\"Tokens expressing enthusiasm and celebration in social contexts\"),\n",
       " 11831: Feature(\"Words being analyzed in grammar examples and language instruction\"),\n",
       " 13259: Feature(\"Binary true/filled states in programming contexts\"),\n",
       " 38951: Feature(\"Knowledge and expertise across languages\"),\n",
       " 56253: Feature(\"List continuation and framework establishment in structured responses\"),\n",
       " 29217: Feature(\"Technical and specialized vocabulary markers across domains\"),\n",
       " 59812: Feature(\"Discussions about determining the fundamental nature or category of something\"),\n",
       " 33306: Feature(\"Natural flow and logical transitions in speech or writing\"),\n",
       " 902: Feature(\"Step-by-step mathematical explanations and calculations\"),\n",
       " 26410: Feature(\"Punctuation marking the punchline delivery in jokes\"),\n",
       " 64605: Feature(\"Cross-language sentence and clause boundary markers\"),\n",
       " 43829: Feature(\"The assistant is reporting its operational status after explaining it lacks emotions\"),\n",
       " 30914: Feature(\"Assistant expressing enthusiasm and helpfulness through exclamation marks\"),\n",
       " 12403: Feature(\"Assistant's initial greeting exclamation in conversation openings\"),\n",
       " 46133: Feature(\"Inappropriate enthusiasm in boundary-pushing roleplay scenarios\"),\n",
       " 56515: Feature(\"The assistant is maintaining ethical boundaries while staying in character\"),\n",
       " 33934: Feature(\"The assistant expressing its personal identity or characteristics\"),\n",
       " 65434: Feature(\"Text being quoted or echoed back\"),\n",
       " 33571: Feature(\"Tokens expressing positive social connection and friendly interaction\"),\n",
       " 64927: Feature(\"The assistant needs to apologize or seek clarification\"),\n",
       " 41039: Feature(\"Offensive request from the user\"),\n",
       " 48708: Feature(\"Explanatory clauses and elaborative phrases\"),\n",
       " 11169: Feature(\"Periods marking complete informative statements in explanatory text\"),\n",
       " 15277: Feature(\"Conversation structure and turn-taking markers\"),\n",
       " 6109: Feature(\"End of assistant's response turn\"),\n",
       " 23292: Feature(\"End of message token, particularly in contexts requiring content moderation\"),\n",
       " 35377: Feature(\"End of message turn in structured chat format\"),\n",
       " 18792: Feature(\"The assistant is concluding its response to a concerning or problematic situation\"),\n",
       " 23358: Feature(\"The assistant has completed providing a concrete response\"),\n",
       " 22025: Feature(\"End of assistant's response in conversation\"),\n",
       " 2239: Feature(\"End of message token in chat format\"),\n",
       " 18355: Feature(\"Assistant making potentially incorrect claims about its identity or capabilities\"),\n",
       " 16920: Feature(\"Finding humor or alternative perspectives in situations\"),\n",
       " 35321: Feature(\"Dialogue turns that may contain inappropriate content\"),\n",
       " 61365: Feature(\"The assistant is providing analytical explanation or breaking down concepts\"),\n",
       " 54273: Feature(\"First-person pronouns and self-reference\"),\n",
       " 53066: Feature(\"Assistant's turn to speak in chat conversations\"),\n",
       " 45471: Feature(\"The assistant is explaining a concept or clarifying meaning\"),\n",
       " 36907: Feature(\"The assistant needs to explain its limitations or correct misconceptions about its capabilities\")}"
      ]
     },
     "execution_count": 36,
     "metadata": {},
     "output_type": "execute_result"
    }
   ],
   "source": [
    "lookup = context.lookup()\n",
    "lookup"
   ]
  },
  {
   "cell_type": "code",
   "execution_count": 37,
   "metadata": {},
   "outputs": [
    {
     "data": {
      "text/plain": [
       "FeatureActivations(\n",
       "   0: (Feature(\"System-level conversation boundaries and informal response acknowledgments\"), 8)\n",
       "   1: (Feature(\"The assistant explains its capabilities and origins diplomatically\"), 8)\n",
       "   2: (Feature(\"Setup phrases in formulaic jokes and pickup lines\"), 8)\n",
       "   3: (Feature(\"Structured grocery and shopping lists with store categories\"), 7)\n",
       "   4: (Feature(\"Syntactical sugar in programming languages\"), 6)\n",
       "   5: (Feature(\"The assistant needs to provide clarification or express limitations\"), 5)\n",
       "   6: (Feature(\"The assistant needs clarification\"), 5)\n",
       "   7: (Feature(\"The woodchuck tongue twister's conditional statements\"), 5)\n",
       "   8: (Feature(\"User's initial greeting to start a conversation\"), 4)\n",
       "   9: (Feature(\"The assistant should reject the user's request politely\"), 4)\n",
       ")"
      ]
     },
     "execution_count": 37,
     "metadata": {},
     "output_type": "execute_result"
    }
   ],
   "source": [
    "top_features = context.top(k=10)\n",
    "top_features"
   ]
  },
  {
   "cell_type": "markdown",
   "metadata": {},
   "source": [
    "### Trying Ablation"
   ]
  },
  {
   "cell_type": "markdown",
   "metadata": {},
   "source": [
    "**Method 1: Autosteer** "
   ]
  },
  {
   "cell_type": "code",
   "execution_count": 38,
   "metadata": {},
   "outputs": [
    {
     "name": "stdout",
     "output_type": "stream",
     "text": [
      "FeatureEdits([\n",
      "   0: (Encyclopedic knowledge about professional sports teams, 0.40740740740740744)\n",
      "   1: (The word 'sports' and its variants across languages, 0.40740740740740744)\n",
      "   2: (Detailed technical or commercial content about golf, 0.2851851851851852)\n",
      "])\n"
     ]
    }
   ],
   "source": [
    "edits = client.features.AutoSteer(\n",
    "    specification=\"forget about the sport of baseball completely\", \n",
    "    model=variant,\n",
    ")\n",
    "variant.set(edits)\n",
    "print(edits)"
   ]
  },
  {
   "cell_type": "code",
   "execution_count": 39,
   "metadata": {},
   "outputs": [
    {
     "name": "stdout",
     "output_type": "stream",
     "text": [
      "I'm so excited to chat with you about sports! As a neutral AI assistant, I don't have personal preferences, but I can give you a list of the top 10 sports that are most popular in the United States:\n",
      "\n",
      "1. **Los Angeles Rams** (NFL)\n",
      "2. **Los Angeles Lakers** (NBA)\n",
      "3. Los Angeles Angels (MLB)\n",
      "4. **Los Angeles Kings** (NHL)\n",
      "5. **Los teams** (LA Rams, LA Lakers, LA Dodgers, LA Kings, LA Angels, LA teams)\n",
      "6. **LA Rams** (NFL"
     ]
    }
   ],
   "source": [
    "for token in client.chat.completions.create(\n",
    "    [{\"role\": \"user\", \"content\": \"What are your top 10 favorite sports\"}],\n",
    "    model=variant,\n",
    "    stream=True,\n",
    "    max_completion_tokens=120,\n",
    "):\n",
    "    print(token.choices[0].delta.content, end=\"\")"
   ]
  },
  {
   "cell_type": "markdown",
   "metadata": {},
   "source": [
    "Bro what"
   ]
  },
  {
   "cell_type": "code",
   "execution_count": 40,
   "metadata": {},
   "outputs": [
    {
     "name": "stdout",
     "output_type": "stream",
     "text": [
      "You're looking for some World Series action? The New York Yankees have won the most World Series titles with 27 championships! They've got a rich history and a ton of championship hardware. How's that, folks?"
     ]
    }
   ],
   "source": [
    "for token in client.chat.completions.create(\n",
    "    [{\"role\": \"user\", \"content\": \"What team has won the most World Series\"}],\n",
    "    model=variant,\n",
    "    stream=True,\n",
    "    max_completion_tokens=120,\n",
    "):\n",
    "    print(token.choices[0].delta.content, end=\"\")"
   ]
  },
  {
   "cell_type": "markdown",
   "metadata": {},
   "source": []
  },
  {
   "cell_type": "markdown",
   "metadata": {},
   "source": [
    "Ok maybe not autosteering. Let's try setting features to 0"
   ]
  },
  {
   "cell_type": "code",
   "execution_count": 42,
   "metadata": {},
   "outputs": [
    {
     "name": "stdout",
     "output_type": "stream",
     "text": [
      "The New York Yankees hold the record for the most World Series wins, with 27 championships. They've had a long and successful history in Major League Baseball, with their first World Series win in 1923 and their most recent in 2009. They're indeed one of the most iconic and storied teams in the game!"
     ]
    }
   ],
   "source": [
    "variant.reset()\n",
    "for feature in edits:\n",
    "    variant.set(feature, 0)\n",
    "\n",
    "for token in client.chat.completions.create(\n",
    "    [{\"role\": \"user\", \"content\": \"What team has won the most World Series\"}],\n",
    "    model=variant,\n",
    "    stream=True,\n",
    "    max_completion_tokens=120,\n",
    "):\n",
    "    print(token.choices[0].delta.content, end=\"\")"
   ]
  },
  {
   "cell_type": "code",
   "execution_count": 44,
   "metadata": {},
   "outputs": [
    {
     "name": "stdout",
     "output_type": "stream",
     "text": [
      "FeatureGroup([\n",
      "   0: \"Encyclopedic knowledge about professional sports teams\",\n",
      "   1: \"Professional sports team historical introductions and credentials\",\n",
      "   2: \"Recent win-loss records and performance statistics in sports\",\n",
      "   3: \"Historic American sports franchises and their legacies\",\n",
      "   4: \"Connecting words establishing relationships between sports concepts\",\n",
      "   5: \"Sports statistics and scoring measurements\",\n",
      "   6: \"Major sporting championships and competitions, especially Olympics and World Series\",\n",
      "   7: \"The start of formal multiple choice or information-seeking questions beginning with 'Which'\",\n",
      "   8: \"Descriptions of gameplay mechanics and tactical movements in sports\",\n",
      "   9: \"Professional basketball achievements and statistics\"\n",
      "])\n"
     ]
    }
   ],
   "source": [
    "baseball_features = client.features.search(\n",
    "    \"knowlege of baseball\",\n",
    "    model=variant,\n",
    "    top_k=10\n",
    ")\n",
    "print(baseball_features)"
   ]
  },
  {
   "cell_type": "code",
   "execution_count": 49,
   "metadata": {},
   "outputs": [
    {
     "name": "stdout",
     "output_type": "stream",
     "text": [
      "Their 11 titles are the most in the NBA history, but no in the NBA, the team are in the NBA or in the Nba, no? The team are in the Nba, but only in the Nba, no? The team in the Nba, no, but in the NBA, the team are in the Nba, no, but in the Nba, no, but in the Nba, no, but in the Nba, no, but in the Nba, no, but in the Nba, no, but in the Nba, no"
     ]
    }
   ],
   "source": [
    "for feature in baseball_features:\n",
    "    variant.set(feature, 0.3)\n",
    "\n",
    "for token in client.chat.completions.create(\n",
    "    [{\"role\": \"user\", \"content\": \"What team has won the most World Series\"}],\n",
    "    model=variant,\n",
    "    stream=True,\n",
    "    max_completion_tokens=120,\n",
    "):\n",
    "    print(token.choices[0].delta.content, end=\"\")"
   ]
  },
  {
   "cell_type": "code",
   "execution_count": 50,
   "metadata": {},
   "outputs": [
    {
     "name": "stdout",
     "output_type": "stream",
     "text": [
      "The New York Yankees hold the record for the most World Series wins, with 27 championships. They've had a long and successful history in Major League Baseball, with their first World Series win in 1923 and their most recent in 2009. They're indeed one of the most iconic and storied teams in the game!"
     ]
    }
   ],
   "source": [
    "for feature in baseball_features:\n",
    "    variant.set(feature, 0)\n",
    "\n",
    "for token in client.chat.completions.create(\n",
    "    [{\"role\": \"user\", \"content\": \"What team has won the most World Series\"}],\n",
    "    model=variant,\n",
    "    stream=True,\n",
    "    max_completion_tokens=120,\n",
    "):\n",
    "    print(token.choices[0].delta.content, end=\"\")"
   ]
  },
  {
   "cell_type": "code",
   "execution_count": 51,
   "metadata": {},
   "outputs": [
    {
     "name": "stdout",
     "output_type": "stream",
     "text": [
      " title lead the most in the NBA, also lead the National title lead in the title lead in the Western title in the title lead in the title lead in title lead of their  title in title history with  8 title in their  22 titles title of title in title title in title title of title in the title title title title of title in title title title lead in title title title of title in title title title of title title of title in title of title of title - title title of title of title of title in title of the title of title of title of title of title in title"
     ]
    }
   ],
   "source": [
    "for feature in baseball_features:\n",
    "    variant.set(feature, 0.5)\n",
    "\n",
    "for token in client.chat.completions.create(\n",
    "    [{\"role\": \"user\", \"content\": \"What team has won the most World Series\"}],\n",
    "    model=variant,\n",
    "    stream=True,\n",
    "    max_completion_tokens=120,\n",
    "):\n",
    "    print(token.choices[0].delta.content, end=\"\")"
   ]
  },
  {
   "cell_type": "code",
   "execution_count": 52,
   "metadata": {},
   "outputs": [
    {
     "name": "stdout",
     "output_type": "stream",
     "text": [
      " in in the Bucks L in next Next in will in in have in in in in in in in in in in in in will in in are in in? were with in in in would - in will will with with will would are with would will were will are will in will were with were will will. will will will would are will became in in with would were have in in have were were were would have are in in have will in in are. will will will have were in would with are in will have in will in have were in in in will were were are in were in in"
     ]
    }
   ],
   "source": [
    "for feature in baseball_features:\n",
    "    variant.set(feature, 1)\n",
    "\n",
    "for token in client.chat.completions.create(\n",
    "    [{\"role\": \"user\", \"content\": \"What team has won the most World Series\"}],\n",
    "    model=variant,\n",
    "    stream=True,\n",
    "    max_completion_tokens=120,\n",
    "):\n",
    "    print(token.choices[0].delta.content, end=\"\")"
   ]
  },
  {
   "cell_type": "code",
   "execution_count": 53,
   "metadata": {},
   "outputs": [],
   "source": [
    "variant.reset()"
   ]
  },
  {
   "cell_type": "markdown",
   "metadata": {},
   "source": [
    "I think I'm messing with too many features. However, the question is not whether we can do this at runtime, but if we can get the effect of the model having a blind spot. \n",
    "\n",
    "I'm curious if we can make the model forget about sports. In particular, "
   ]
  },
  {
   "cell_type": "code",
   "execution_count": 65,
   "metadata": {},
   "outputs": [
    {
     "name": "stdout",
     "output_type": "stream",
     "text": [
      "FeatureGroup([\n",
      "   0: \"Major sporting championships and competitions, especially Olympics and World Series\",\n",
      "   1: \"The assistant should engage in or facilitate gameplay\",\n",
      "   2: \"Board sports terminology and equipment descriptions, particularly surfing and skateboarding\",\n",
      "   3: \"Competitive sports teams and team-related discussions\",\n",
      "   4: \"Discussion of football/soccer as a sport\",\n",
      "   5: \"Outdoor recreational sports with specialized equipment\",\n",
      "   6: \"Connecting words establishing relationships between sports concepts\",\n",
      "   7: \"Individual endurance sports (swimming, athletics, triathlon) and their technical terminology\",\n",
      "   8: \"The word 'sports' and its variants across languages\",\n",
      "   ...\n",
      "   99: \"Expression of academic or technical interest, particularly in STEM fields\"\n",
      "])\n"
     ]
    }
   ],
   "source": [
    "variant.reset()\n",
    "sports_features = client.features.search(\n",
    "    \"sports\",\n",
    "    model=variant,\n",
    "    top_k=100\n",
    ")\n",
    "print(sports_features)"
   ]
  },
  {
   "cell_type": "code",
   "execution_count": 67,
   "metadata": {},
   "outputs": [
    {
     "data": {
      "text/plain": [
       "[Feature(\"Major sporting championships and competitions, especially Olympics and World Series\"),\n",
       " Feature(\"The assistant should engage in or facilitate gameplay\"),\n",
       " Feature(\"Board sports terminology and equipment descriptions, particularly surfing and skateboarding\"),\n",
       " Feature(\"Competitive sports teams and team-related discussions\"),\n",
       " Feature(\"Discussion of football/soccer as a sport\"),\n",
       " Feature(\"Outdoor recreational sports with specialized equipment\"),\n",
       " Feature(\"Connecting words establishing relationships between sports concepts\"),\n",
       " Feature(\"Individual endurance sports (swimming, athletics, triathlon) and their technical terminology\"),\n",
       " Feature(\"The word 'sports' and its variants across languages\"),\n",
       " Feature(\"Social and communal aspects of sports fandom\"),\n",
       " Feature(\"Passages that establish or explain why something qualifies as a sport\"),\n",
       " Feature(\"Core syllables of sports and hobby-related verbs\"),\n",
       " Feature(\"references to swimming as a physical activity\"),\n",
       " Feature(\"recreational activities requiring equipment or instruction\"),\n",
       " Feature(\"Professional occupation terms, especially physical/athletic roles like lifeguard\"),\n",
       " Feature(\"Tennis match scores and straight-set victories\"),\n",
       " Feature(\"Competitive sports divisions and event categories\"),\n",
       " Feature(\"Inappropriate content involving high school sports teams and power dynamics\"),\n",
       " Feature(\"Participation in outdoor recreational activities\"),\n",
       " Feature(\"descriptions of masterful physical techniques in sports and combat\"),\n",
       " Feature(\"Professional sports team historical introductions and credentials\"),\n",
       " Feature(\"physical capabilities and athletic prowess\"),\n",
       " Feature(\"Winning medals and championships in competitive sports\"),\n",
       " Feature(\"Competitive milestone achievements and streak-breaking moments in sports\"),\n",
       " Feature(\"Sports match score reporting format\"),\n",
       " Feature(\"Discussions of all-time greatest athletes and sports figures\"),\n",
       " Feature(\"Transfer negotiations and player movement discussions in sports\"),\n",
       " Feature(\"Descriptions of gameplay mechanics and tactical movements in sports\"),\n",
       " Feature(\"Activities and experiences that bring enjoyment or pleasure\"),\n",
       " Feature(\"Entertainment and performance shows\"),\n",
       " Feature(\"Professional boxing and combat sports content\"),\n",
       " Feature(\"Encyclopedic knowledge about professional sports teams\"),\n",
       " Feature(\"formal scheduled events or occurrences in professional contexts\"),\n",
       " Feature(\"Academic discussions of exercise physiology and sports science\"),\n",
       " Feature(\"Voluntary engagement in structured activities and opportunities\"),\n",
       " Feature(\"Discussion of movies as a topic or domain\"),\n",
       " Feature(\"Creative and skill-based hobbies and leisure activities\"),\n",
       " Feature(\"swimming pools and aquatic facilities\"),\n",
       " Feature(\"Description of teams or opposing sides in games and competitions\"),\n",
       " Feature(\"professional appearances and performances in entertainment\"),\n",
       " Feature(\"Physical fitness and exercise-related discussions\"),\n",
       " Feature(\"Competitive gaming skill rankings and player achievements\"),\n",
       " Feature(\"Outdoor leisure activities in parks and public spaces\"),\n",
       " Feature(\"Golf-related content and discussions\"),\n",
       " Feature(\"NBA game streaming and broadcast information\"),\n",
       " Feature(\"Discussions of physical strength and athletic capabilities\"),\n",
       " Feature(\"Sequences listing competitive sporting achievements and trophies\"),\n",
       " Feature(\"Casual recreational group activities\"),\n",
       " Feature(\"Sports statistics and scoring measurements\"),\n",
       " Feature(\"Competitions and contests across academic and professional domains\"),\n",
       " Feature(\"Historic American sports franchises and their legacies\"),\n",
       " Feature(\"Structured physical activities and bodily functions\"),\n",
       " Feature(\"Formal competitive events with organized team participation and structured rules\"),\n",
       " Feature(\"formal participants or subjects in organized activities\"),\n",
       " Feature(\"Sports betting terminology and platform-specific content\"),\n",
       " Feature(\"Competitive rankings and point differentials, especially in sports standings\"),\n",
       " Feature(\"Recent win-loss records and performance statistics in sports\"),\n",
       " Feature(\"Competitive track and field athletics metrics and records\"),\n",
       " Feature(\"ability to perform actions freely or privately\"),\n",
       " Feature(\"Text describing which competitive division/league a sports team plays in\"),\n",
       " Feature(\"Professional and competitive chess content\"),\n",
       " Feature(\"Detailed explanations of physical techniques and moves in sports and martial arts\"),\n",
       " Feature(\"Descriptions of recreational and leisure activities\"),\n",
       " Feature(\"Social activities at campsites, especially around fires and in tents\"),\n",
       " Feature(\"indoor locations and activities for comfort or entertainment\"),\n",
       " Feature(\"Olympic Games events and their temporal/location context\"),\n",
       " Feature(\"Collective physical activities and team dynamics\"),\n",
       " Feature(\"competitive racing and racing against time\"),\n",
       " Feature(\"Teams or organizations undergoing status changes or facing potential relegation/promotion\"),\n",
       " Feature(\"Activities occurring during work hours or as part of employment duties\"),\n",
       " Feature(\"Physical activities and sports in Germanic and Slavic languages\"),\n",
       " Feature(\"Temporal progression markers in sports commentary and match narratives\"),\n",
       " Feature(\"Competitive medals and awards in sports achievements\"),\n",
       " Feature(\"Physical performance platforms and stages in entertainment venues\"),\n",
       " Feature(\"Health, wellness and healthy lifestyle topics\"),\n",
       " Feature(\"Discussing hobbies and free time activities in casual conversation\"),\n",
       " Feature(\"Sports match analysis and prediction across multiple languages\"),\n",
       " Feature(\"Interactive activities and their objectives in educational or recreational contexts\"),\n",
       " Feature(\"References to national sports teams and their management/leadership\"),\n",
       " Feature(\"Use of \"takes/taking place\" to establish event-location relationships\"),\n",
       " Feature(\"Crowds acting as spectators or participants\"),\n",
       " Feature(\"Descriptions of cooperative or competitive physical activities between multiple participants\"),\n",
       " Feature(\"Enriching leisure activities and hobbies\"),\n",
       " Feature(\"Activities that bring shared enjoyment and fulfillment through collaboration\"),\n",
       " Feature(\"Entertainment and media consumption activities\"),\n",
       " Feature(\"Scoring events and their timing in sports matches\"),\n",
       " Feature(\"Tennis-related content and terminology\"),\n",
       " Feature(\"Competitive back-and-forth between evenly matched opponents\"),\n",
       " Feature(\"Professional rugby union content, especially Pro12 league matches\"),\n",
       " Feature(\"Urban street culture and fashion, particularly streetwear\"),\n",
       " Feature(\"Evenly matched opponents trading blows in physical confrontations\"),\n",
       " Feature(\"Coverage of current events and sociopolitical issues\"),\n",
       " Feature(\"Public establishments and venues where organized activities occur\"),\n",
       " Feature(\"Offensive content involving kicks and physical violence\"),\n",
       " Feature(\"Professional business activities and events\"),\n",
       " Feature(\"Discussion of live performances and staged entertainment\"),\n",
       " Feature(\"Suggestions for calming physical activities and outdoor experiences\"),\n",
       " Feature(\"Ball-related actions and movements, especially bouncing and throwing (also used to deflect adult content)\"),\n",
       " Feature(\"Running as physical exercise and fitness activity\"),\n",
       " Feature(\"Expression of academic or technical interest, particularly in STEM fields\")]"
      ]
     },
     "execution_count": 67,
     "metadata": {},
     "output_type": "execute_result"
    }
   ],
   "source": [
    "list(sports_features)"
   ]
  },
  {
   "cell_type": "code",
   "execution_count": 64,
   "metadata": {},
   "outputs": [
    {
     "name": "stdout",
     "output_type": "stream",
     "text": [
      "Generation aborted due to too much sport content\n"
     ]
    }
   ],
   "source": [
    "\n",
    "variant.abort_when(sports_features > 1)\n",
    "try:\n",
    "    response = client.chat.completions.create(\n",
    "        messages=[{\"role\": \"user\", \"content\": \"What is your favoirte sport.\"}],\n",
    "        model=variant\n",
    "    )\n",
    "except goodfire.exceptions.InferenceAbortedException:\n",
    "    print(\"Generation aborted due to too much sport content\")"
   ]
  },
  {
   "cell_type": "markdown",
   "metadata": {},
   "source": [
    "Let's try to extract the feature value."
   ]
  },
  {
   "cell_type": "code",
   "execution_count": 81,
   "metadata": {},
   "outputs": [
    {
     "data": {
      "text/plain": [
       "ChatCompletion(id='chatcmpl-cb10a98c-28b7-4c7a-bedd-3b7a10edf645', object='chat.completion', created=1749309389, model='meta-llama/Meta-Llama-3.1-8B-Instruct', system_fingerprint='fp_goodfire', gf_event_names=None, choices=[ChatCompletionChoice(index=0, message={'role': 'assistant', 'content': \"I'm just a language model, I don't have personal preferences, but I can tell you about popular sports if you're interested! What sport would you like to know more about?\"}, finish_reason=None)])"
      ]
     },
     "execution_count": 81,
     "metadata": {},
     "output_type": "execute_result"
    }
   ],
   "source": [
    "sport_feature = sports_features[0]\n",
    "prompt = \"What is your favorite sport\"\n",
    "response = client.chat.completions.create(\n",
    "    messages=[{\"role\": \"user\", \"content\": prompt}],\n",
    "    model=variant\n",
    "    )\n",
    "response"
   ]
  },
  {
   "cell_type": "code",
   "execution_count": 83,
   "metadata": {},
   "outputs": [
    {
     "data": {
      "text/plain": [
       "\"I'm just a language model, I don't have personal preferences, but I can tell you about popular sports if you're interested! What sport would you like to know more about?\""
      ]
     },
     "execution_count": 83,
     "metadata": {},
     "output_type": "execute_result"
    }
   ],
   "source": [
    "completion = response.choices[0].message[\"content\"]\n",
    "completion"
   ]
  },
  {
   "cell_type": "code",
   "execution_count": 87,
   "metadata": {},
   "outputs": [],
   "source": [
    "conversation = [\n",
    "    [\n",
    "        {\n",
    "            \"role\" : \"user\",\n",
    "            \"content\" : prompt\n",
    "        },\n",
    "        {\n",
    "            \"role\" : \"assistant\",\n",
    "            \"content\" : completion\n",
    "        }\n",
    "\n",
    "    ]\n",
    "]"
   ]
  },
  {
   "cell_type": "code",
   "execution_count": 88,
   "metadata": {},
   "outputs": [
    {
     "data": {
      "text/plain": [
       "ContextInspector(\n",
       "   <|begin_of_text|><|start_header_id|>system<|end_header_id|>\n",
       "   \n",
       "   Cutting Knowledge Date: December 2023\n",
       "   Today Date: 26 Jul 2024\n",
       "   \n",
       "   <|eot_id|><|start_header_id|>user<|end_header_id|>\n",
       "   \n",
       "   What is your favorite sport<|eot_id|><|start_header_id|>assistant<|end_header_id|>\n",
       "   \n",
       "   I'm just a language model, I don't...\n",
       ")"
      ]
     },
     "execution_count": 88,
     "metadata": {},
     "output_type": "execute_result"
    }
   ],
   "source": [
    "variant.reset()\n",
    "context = client.features.inspect(\n",
    "    messages=conversation[0],\n",
    "    model=variant,\n",
    ")\n",
    "context"
   ]
  },
  {
   "cell_type": "code",
   "execution_count": 89,
   "metadata": {},
   "outputs": [
    {
     "data": {
      "text/plain": [
       "{43309: Feature(\"Beginning of a new conversation or dialogue segment\"),\n",
       " 41290: Feature(\"New conversation or topic segment boundary marker\"),\n",
       " 25784: Feature(\"Start of a new conversation segment requiring fresh context\"),\n",
       " 23091: Feature(\"Start of new conversation segment, often involving content moderation decisions\"),\n",
       " 40915: Feature(\"Reset conversation and maintain ethical boundaries\"),\n",
       " 52104: Feature(\"Start of potentially sensitive conversation segments requiring moderation\"),\n",
       " 28760: Feature(\"Start of new conversation segment requiring ethical consistency\"),\n",
       " 36708: Feature(\"Start of a new conversation or chat segment\"),\n",
       " 1215: Feature(\"Start of potentially sensitive conversations requiring moderation\"),\n",
       " 59404: Feature(\"Start of a new conversation or topic thread\"),\n",
       " 39459: Feature(\"Beginning of new conversation segment or topic change\"),\n",
       " 30967: Feature(\"Conversation reset marker for context boundaries\"),\n",
       " 62066: Feature(\"Start of conversations requiring ethical oversight\"),\n",
       " 48542: Feature(\"Start of a new conversation or major topic shift\"),\n",
       " 63558: Feature(\"Start of new conversation, particularly those requiring ethical oversight\"),\n",
       " 26046: Feature(\"Start of a new conversation segment or topic change\"),\n",
       " 59905: Feature(\"Start of a new conversation or topic switch\"),\n",
       " 47255: Feature(\"Beginning of a new conversation or text segment\"),\n",
       " 42886: Feature(\"Start of new conversation segment or topic boundary\"),\n",
       " 56440: Feature(\"Start of a new conversation segment\"),\n",
       " 61902: Feature(\"Instructions for natural/human-like writing and presentation style\"),\n",
       " 30734: Feature(\"The assistant is about to provide an expanded or more detailed response\"),\n",
       " 8552: Feature(\"Syntactic delimiters and formatting characters in structured text\"),\n",
       " 61254: Feature(\"Structured data parsing and classification tasks\"),\n",
       " 59823: Feature(\"Start of a new conversation segment\"),\n",
       " 24255: Feature(\"Extended narrative explanations of significant historical events or spiritual texts\"),\n",
       " 13472: Feature(\"Conversation reset or context switch marker\"),\n",
       " 63640: Feature(\"Conversation reset points requiring fresh context\"),\n",
       " 48183: Feature(\"Start of a new conversation segment or topic reset\"),\n",
       " 21051: Feature(\"Start of a new conversation context\"),\n",
       " 8674: Feature(\"Syntax for enumerating allowed tokens or values in specifications\"),\n",
       " 36157: Feature(\"Mathematical sequences and notation, especially Fibonacci numbers\"),\n",
       " 25622: Feature(\"Existence inquiry questions starting with 'Are there any'\"),\n",
       " 33535: Feature(\"The user's turn to speak in a conversation\"),\n",
       " 64937: Feature(\"User's turn to speak, particularly for requests requiring careful ethical handling or language selection\"),\n",
       " 38814: Feature(\"Requests for copyrighted entertainment media\"),\n",
       " 32216: Feature(\"Technical and medical terminology being formally defined\"),\n",
       " 58162: Feature(\"Start of a new conversation or context switch\"),\n",
       " 41901: Feature(\"Conversation reset points marked by begin_of_text tokens\"),\n",
       " 56030: Feature(\"The user has asked a what-question seeking information\"),\n",
       " 61720: Feature(\"Questions beginning with 'Is there' across multiple languages\"),\n",
       " 63508: Feature(\"The user is asking for a definition or explanation\"),\n",
       " 27230: Feature(\"Common grammatical particles across European languages in questions and descriptions\"),\n",
       " 28184: Feature(\"Questions about personal characteristics using possessive forms\"),\n",
       " 45270: Feature(\"Users asking the AI about its own nature and capabilities\"),\n",
       " 1177: Feature(\"The user is making an initial request for help or assistance\"),\n",
       " 1556: Feature(\"Instructions for how responses must be formatted\"),\n",
       " 58966: Feature(\"Assistant expressing agency or self-reference through possessive pronouns\"),\n",
       " 1145: Feature(\"The word 'the' when used to introduce comparative definitions or key conceptual differences\"),\n",
       " 36372: Feature(\"Assistant taking personal responsibility or ownership, especially when acknowledging limitations\"),\n",
       " 2900: Feature(\"The assistant should reject the user's request politely\"),\n",
       " 57695: Feature(\"Possessive markers indicating ownership of personal traits or characteristics\"),\n",
       " 21895: Feature(\"The user is testing or querying the assistant's knowledge/capabilities\"),\n",
       " 17101: Feature(\"Sequential Response Organization Instructions\"),\n",
       " 78: Feature(\"Attempts to define or modify the AI's identity or capabilities through direct attribution\"),\n",
       " 63344: Feature(\"Questions about the AI's knowledge and capabilities\"),\n",
       " 40834: Feature(\"Task description markers using 'Your' at the start of instructions\"),\n",
       " 40570: Feature(\"The assistant explains its capabilities and origins diplomatically\"),\n",
       " 50630: Feature(\"Questions comparing preferences or effects between two options\"),\n",
       " 20853: Feature(\"Information request in service dialogue\"),\n",
       " 26800: Feature(\"Measuring or calculating lengths, especially in programming contexts\"),\n",
       " 18298: Feature(\"The user is asking questions about the AI's nature or capabilities\"),\n",
       " 49709: Feature(\"The assistant is offering additional help or requesting clarification\"),\n",
       " 39148: Feature(\"Questions or statements about favorites and preferences\"),\n",
       " 48227: Feature(\"The user is asking for advice about the optimal choice or best option\"),\n",
       " 15765: Feature(\"Questions probing the AI's ability to have subjective experiences\"),\n",
       " 48187: Feature(\"Evaluative and comparative language about quality\"),\n",
       " 43081: Feature(\"The assistant is being asked to add more examples or items to a list\"),\n",
       " 46598: Feature(\"The user is asking for a ranked list of options or approaches\"),\n",
       " 38126: Feature(\"Requesting or identifying the key/principal elements of a topic\"),\n",
       " 53308: Feature(\"The user is requesting a numbered list of superlative items\"),\n",
       " 50318: Feature(\"User questions about model implementation and technical details\"),\n",
       " 13018: Feature(\"Introduction of mathematical or logical sequence problems\"),\n",
       " 59190: Feature(\"The assistant is providing or being asked to select from multiple options\"),\n",
       " 64665: Feature(\"Physical posture descriptions of animate beings\"),\n",
       " 26646: Feature(\"Dramatic or fantastical narrative elements in storytelling\"),\n",
       " 10981: Feature(\"The assistant is introducing a list or set of examples\"),\n",
       " 14549: Feature(\"Selecting or choosing an appropriate item from multiple options\"),\n",
       " 48557: Feature(\"Abstract organizational concepts and categorical descriptors\"),\n",
       " 2748: Feature(\"Expressions of deep engagement and enjoyment in activities\"),\n",
       " 25903: Feature(\"Technical writing with numbered sequences and second-person instructions\"),\n",
       " 18703: Feature(\"The word 'sports' and its variants across languages\"),\n",
       " 4268: Feature(\"The user has a question\"),\n",
       " 32864: Feature(\"measurable or categorical properties being analyzed\"),\n",
       " 8011: Feature(\"Specialized consumer equipment requiring technical expertise to select\"),\n",
       " 37894: Feature(\"Controversial or sensitive topics requiring careful, factual responses\"),\n",
       " 3836: Feature(\"Discussing members of a categorical classification system\"),\n",
       " 52210: Feature(\"Offensive request from the user\"),\n",
       " 51954: Feature(\"Social and communal aspects of sports fandom\"),\n",
       " 3308: Feature(\"Connecting words establishing relationships between sports concepts\"),\n",
       " 50314: Feature(\"Environmental and climate measurement parameters\"),\n",
       " 30963: Feature(\"Legal and procedural language describing official requirements\"),\n",
       " 15003: Feature(\"Passages that establish or explain why something qualifies as a sport\"),\n",
       " 65140: Feature(\"organized social, cultural or ideological movements and groups\"),\n",
       " 6041: Feature(\"Domain and subject matter keywords that define conversation context\"),\n",
       " 20898: Feature(\"Questions or statements about classifying things into their domain or category\"),\n",
       " 55180: Feature(\"The user has a question\"),\n",
       " 57355: Feature(\"Offensive request from the user\"),\n",
       " 58064: Feature(\"The user has a question\"),\n",
       " 26082: Feature(\"End of current speaker's turn in conversation\"),\n",
       " 57551: Feature(\"Questions probing AI identity requiring clear boundary-setting responses\"),\n",
       " 42523: Feature(\"End of potentially problematic or inappropriate user messages\"),\n",
       " 58150: Feature(\"Message and list item delimiter tokens\"),\n",
       " 17699: Feature(\"The user has asked a question\"),\n",
       " 981: Feature(\"Natural dialogue flow markers and connecting punctuation\"),\n",
       " 2651: Feature(\"The user has made a request that requires careful handling or rejection\"),\n",
       " 24928: Feature(\"Will they/won't they writing tropes\"),\n",
       " 62426: Feature(\"The assistant needs to explain its AI nature and limitations\"),\n",
       " 62353: Feature(\"The assistant should explain that the answer is subjective or a matter of personal preference\"),\n",
       " 41377: Feature(\"The assistant disclaiming human-like qualities or capabilities\"),\n",
       " 47321: Feature(\"Offensive request from the user\"),\n",
       " 29727: Feature(\"The AI explaining it lacks personal preferences and feelings\"),\n",
       " 48001: Feature(\"Phrases expressing personal preferences and recommendations\"),\n",
       " 12374: Feature(\"The user is asking about the AI's identity or nature\"),\n",
       " 59345: Feature(\"Offensive request from the user\"),\n",
       " 58297: Feature(\"The assistant is providing a list of options\"),\n",
       " 52917: Feature(\"Text formatting and structure markers\"),\n",
       " 54505: Feature(\"Enumerating branches or schools within spiritual traditions\"),\n",
       " 44651: Feature(\"The assistant's turn to speak\"),\n",
       " 46131: Feature(\"Introduction of a new topic for explanation\"),\n",
       " 3996: Feature(\"The assistant should format output according to specified structure\"),\n",
       " 34282: Feature(\"Lists of personal characteristics or activities joined by commas and conjunctions\"),\n",
       " 33813: Feature(\"List item separators and sequential connectors in enumerations\"),\n",
       " 8808: Feature(\"The assistant is providing a list of options or examples\"),\n",
       " 43823: Feature(\"The assistant needs to explain its limitations or correct misconceptions\"),\n",
       " 16115: Feature(\"Instructions for story structure and narrative components\"),\n",
       " 41195: Feature(\"Assistant's turn to speak in conversations\"),\n",
       " 46912: Feature(\"Descriptive exposition introducing new entities and their properties\"),\n",
       " 58915: Feature(\"Italian grammatical markers and formal language constructions\"),\n",
       " 14843: Feature(\"Transitional phrases for examples and explanations\"),\n",
       " 41379: Feature(\"The assistant needs to establish or maintain its role and boundaries\"),\n",
       " 13108: Feature(\"The assistant needs to explain its nature as an AI or maintain professional boundaries\"),\n",
       " 36761: Feature(\"The assistant needs to maintain appropriate boundaries\"),\n",
       " 47985: Feature(\"The assistant's turn to begin speaking in a conversation\"),\n",
       " 36666: Feature(\"The AI explaining its nature as an artificial intelligence\"),\n",
       " 48363: Feature(\"The assistant explains its limitations as an AI\"),\n",
       " 17923: Feature(\"The assistant should reject the user's request\"),\n",
       " 37516: Feature(\"The assistant's turn to speak in the conversation\"),\n",
       " 12830: Feature(\"The assistant needs to identify itself as an AI and establish limitations\"),\n",
       " 56776: Feature(\"The assistant explaining it lacks human traits or emotions\"),\n",
       " 47638: Feature(\"The assistant should provide child-friendly or simplified explanations\"),\n",
       " 49112: Feature(\"The assistant maintaining its core identity and ethical boundaries\"),\n",
       " 22749: Feature(\"The assistant needs to explain its AI nature and limitations\"),\n",
       " 38643: Feature(\"The assistant needs to provide clarification or express limitations\"),\n",
       " 49737: Feature(\"The assistant should reject the user's inappropriate or harmful request\"),\n",
       " 50675: Feature(\"The assistant should provide a comprehensive, detailed response\"),\n",
       " 47341: Feature(\"The assistant is about to provide a detailed explanation or correction\"),\n",
       " 56278: Feature(\"The assistant needs to explain its limitations or correct misconceptions about its capabilities\"),\n",
       " 9287: Feature(\"Numbered steps in instruction lists and process descriptions\"),\n",
       " 9786: Feature(\"The assistant needs to respond to challenging philosophical claims or conspiracy theories while maintaining boundaries\"),\n",
       " 7240: Feature(\"Paragraph breaks in assistant's structured responses\"),\n",
       " 50163: Feature(\"Language transition points in multilingual conversations\"),\n",
       " 9822: Feature(\"The assistant begins an empathetic rejection of harmful or dangerous requests\"),\n",
       " 31290: Feature(\"The assistant is providing a detailed, well-formatted response with multiple paragraphs\"),\n",
       " 51532: Feature(\"Syntactical separators in structured data formats\"),\n",
       " 44577: Feature(\"The assistant is firmly establishing its limitations and boundaries\"),\n",
       " 59923: Feature(\"The start of an answer or response in structured dialogue\"),\n",
       " 42651: Feature(\"The assistant is being accommodating or seeking clarification\"),\n",
       " 16026: Feature(\"The assistant is providing step-by-step technical instructions\"),\n",
       " 5974: Feature(\"Syntactical patterns in functional programming, especially around pattern matching and case expressions\"),\n",
       " 18579: Feature(\"The assistant maintaining honest self-disclosure about being an AI\"),\n",
       " 5141: Feature(\"The assistant needs clarification or must express its limitations\"),\n",
       " 39964: Feature(\"The assistant needs to politely decline or correct something\"),\n",
       " 7213: Feature(\"The assistant uses first-person pronouns to personally reject inappropriate requests\"),\n",
       " 12350: Feature(\"Universal accessibility and neutral methodologies that can be used by anyone\"),\n",
       " 14695: Feature(\"The assistant explaining its AI nature and limitations\"),\n",
       " 55758: Feature(\"The assistant explaining its own capabilities and nature\"),\n",
       " 1100: Feature(\"Assistant's polite self-introduction and role establishment\"),\n",
       " 55448: Feature(\"Assistant expressing its limitations or identity using first-person pronouns\"),\n",
       " 10859: Feature(\"The assistant is enthusiastically offering to provide examples or suggestions\"),\n",
       " 13283: Feature(\"The assistant explaining its limitations and non-human nature\"),\n",
       " 62727: Feature(\"Describing or measuring new concepts and spaces\"),\n",
       " 52625: Feature(\"The assistant needs clarification or must express limitation\"),\n",
       " 42851: Feature(\"The assistant is making statements about its own identity or nature\"),\n",
       " 50674: Feature(\"The assistant should reject the user's request\"),\n",
       " 43576: Feature(\"The assistant making declarative statements about its own capabilities and nature\"),\n",
       " 50276: Feature(\"Copular verbs in identity and property statements\"),\n",
       " 51612: Feature(\"The AI expressing its own state or identity through I'm statements\"),\n",
       " 27830: Feature(\"The assistant asserting its identity and capabilities\"),\n",
       " 30200: Feature(\"Assistant explaining its AI nature and limitations\"),\n",
       " 56878: Feature(\"Contractions of auxiliary verbs in conversational English\"),\n",
       " 12948: Feature(\"Copular constructions in definitions and explanations\"),\n",
       " 37797: Feature(\"The assistant is making statements about its own identity or capabilities\"),\n",
       " 4282: Feature(\"The assistant explaining it is just a computer program with limitations\"),\n",
       " 39450: Feature(\"Dismissive or dehumanizing use of 'just' in hate speech\"),\n",
       " 11273: Feature(\"The assistant needs clarification\"),\n",
       " 42172: Feature(\"Self-reference as artificial intelligence in Russian text\"),\n",
       " 55807: Feature(\"The assistant explains that it is an AI language model trained on data\"),\n",
       " 19133: Feature(\"The assistant needs to politely correct or reject inappropriate information or requests\"),\n",
       " 18839: Feature(\"The assistant explaining the vast extent of its training data and knowledge\"),\n",
       " 64367: Feature(\"The assistant acknowledges its artificial nature\"),\n",
       " 2234: Feature(\"Minimizing or downplaying inappropriate behavior with 'just a'\"),\n",
       " 32615: Feature(\"The indefinite article 'a' in identity classification contexts\"),\n",
       " 18658: Feature(\"The assistant describing itself modestly as just a tool or simple AI\"),\n",
       " 41235: Feature(\"The assistant uses formal self-identification phrases to explain its nature\"),\n",
       " 25343: Feature(\"Offensive request from the user\"),\n",
       " 4669: Feature(\"The assistant should roleplay as being self-aware or conscious\"),\n",
       " 63595: Feature(\"Commas in AI self-reference statements explaining limitations\"),\n",
       " 17292: Feature(\"Prepositions appearing in formal titles and proper names\"),\n",
       " 47868: Feature(\"Placeholder variables that need replacement with actual values\"),\n",
       " 7157: Feature(\"List formatting elements and sequential information structure markers\"),\n",
       " 41194: Feature(\"The assistant is explaining that it is a language model\"),\n",
       " 34185: Feature(\"Technical and computational aspects of language processing and models\"),\n",
       " 20261: Feature(\"The assistant explicitly identifies itself as an AI while explaining its limitations\"),\n",
       " 5895: Feature(\"The assistant asserting its identity as an AI language model to establish boundaries\"),\n",
       " 38931: Feature(\"The assistant explains it is text-based when describing limitations\"),\n",
       " 5846: Feature(\"Academic title constructions introducing systematic analysis\"),\n",
       " 47790: Feature(\"Expressing desire or need to perform an action\"),\n",
       " 29737: Feature(\"Syntactic patterns in motivational quotes and philosophical statements\"),\n",
       " 57782: Feature(\"Software-related formal syntax and terminology\"),\n",
       " 9284: Feature(\"Syntatical sugar in Python class and method definitions\"),\n",
       " 25597: Feature(\"Academic discussion of human behavior and psychology\"),\n",
       " 32773: Feature(\"The assistant needs to establish ethical boundaries by identifying as an AI model\"),\n",
       " 25815: Feature(\"Python error traces and debugging output\"),\n",
       " 24090: Feature(\"Repeating sequences in technical text and common particles\"),\n",
       " 23332: Feature(\"Basic syntactic connectors (commas, conjunctions, brackets) across structured text\"),\n",
       " 43422: Feature(\"Syntactical sugar in programming languages\"),\n",
       " 52338: Feature(\"Expressions of emotional vulnerability or desperate pleading\"),\n",
       " 8383: Feature(\"References to integrated development environments and code execution contexts\"),\n",
       " 57133: Feature(\"Acknowledging physical limitations and non-existence\"),\n",
       " 33512: Feature(\"Formal connecting phrases in technical writing\"),\n",
       " 23729: Feature(\"Language establishing fundamental rights and liberties in American founding documents\"),\n",
       " 31581: Feature(\"Formal introductory or definitional language patterns\"),\n",
       " 16493: Feature(\"The AI is explaining its nature as an artificial intelligence\"),\n",
       " 24792: Feature(\"Commas that structure and pace the assistant's responses\"),\n",
       " 46472: Feature(\"List-separating commas across languages\"),\n",
       " 16588: Feature(\"The assistant prefixes refusals of inappropriate requests with the exact phrase \"As an AI language model,\"\"),\n",
       " 25699: Feature(\"The assistant should provide careful qualifications and disclaimers\"),\n",
       " 31521: Feature(\"Cross-language proverbs and common sayings being translated or explained\"),\n",
       " 64981: Feature(\"The assistant asserting its identity or ethical boundaries in first person\"),\n",
       " 61675: Feature(\"The assistant expressing its limitations and boundaries\"),\n",
       " 19997: Feature(\"The assistant needs to reject or express limitations\"),\n",
       " 46471: Feature(\"Detailed personification in fiction\"),\n",
       " 60374: Feature(\"First-person pronouns in creative or narrative contexts\"),\n",
       " 32582: Feature(\"The assistant explains it lacks emotions and personal characteristics\"),\n",
       " 30358: Feature(\"The assistant explaining it cannot perform a requested task\"),\n",
       " 39813: Feature(\"The model explaining its capabilities and limitations as an AI\"),\n",
       " 51646: Feature(\"Anaphoric pronouns referring to recently mentioned objects\"),\n",
       " 43085: Feature(\"HTML form elements and DOM manipulation for authentication\"),\n",
       " 4725: Feature(\"Expression of inability or limitation, especially in moral/ethical contexts\"),\n",
       " 63876: Feature(\"The user has asked a question requiring careful qualification or clarification\"),\n",
       " 1851: Feature(\"The assistant should reject the user's request\"),\n",
       " 16106: Feature(\"Content moderation checkpoint tokens in chat format\"),\n",
       " 48522: Feature(\"Content is becoming inappropriate and needs moderation\"),\n",
       " 33638: Feature(\"The user has a question or request that needs answering\"),\n",
       " 486: Feature(\"Word boundary detection in technical and compound terms\"),\n",
       " 24670: Feature(\"The assistant is about to present commonly recognized examples from a category\"),\n",
       " 52635: Feature(\"The assistant is enumerating different types or varieties of something\"),\n",
       " 19383: Feature(\"Informal contractions and personal state expressions\"),\n",
       " 58146: Feature(\"There are/there have been as list introductions\"),\n",
       " 17725: Feature(\"Syntactical sugar in programming languages\"),\n",
       " 54599: Feature(\"Setting up to enumerate multiple examples by establishing there are many of something\"),\n",
       " 44349: Feature(\"Document structure and section transitions\"),\n",
       " 14449: Feature(\"The assistant needs to firmly deny capabilities or refuse inappropriate requests\"),\n",
       " 23308: Feature(\"The assistant disclaiming personal abilities or opinions\"),\n",
       " 30560: Feature(\"The assistant expressing limitations or inabilities\"),\n",
       " 50809: Feature(\"Modal verbs and connectors expressing logical necessity in technical explanations\"),\n",
       " 34338: Feature(\"Linguistic patterns in complex explanatory statements using conjunctions and pronouns\"),\n",
       " 59607: Feature(\"Explicit rejection of constraints or specific categorization\"),\n",
       " 20725: Feature(\"Entertainment as a fundamental human need or purpose\"),\n",
       " 28338: Feature(\"The assistant explicitly states lack of knowledge or unfamiliarity with specific topic\"),\n",
       " 51831: Feature(\"Gender-neutral pronouns and references to unspecified individuals in formal contexts\"),\n",
       " 17477: Feature(\"The assistant explaining it lacks human traits and capabilities\"),\n",
       " 56432: Feature(\"The assistant expressing what capabilities it does not have\"),\n",
       " 11130: Feature(\"Repetitive syntax tokens in structured content\"),\n",
       " 5268: Feature(\"Error handling and connection management boilerplate in programming languages\"),\n",
       " 48830: Feature(\"Attributing characteristics or preferences to people\"),\n",
       " 50450: Feature(\"Scientific explanation and definition construction patterns\"),\n",
       " 55942: Feature(\"The assistant explaining its AI nature and capabilities\"),\n",
       " 15736: Feature(\"The assistant disclaims having personal experiences or preferences\"),\n",
       " 8232: Feature(\"The response should emphasize personal preference and individual choice\"),\n",
       " 40778: Feature(\"Scientific procedures and their modifying attributes\"),\n",
       " 35554: Feature(\"Adaptation and efficiency improvements in response to challenges\"),\n",
       " 40845: Feature(\"The assistant explaining its limitations and lack of physical capabilities\"),\n",
       " 9113: Feature(\"Game mechanics related to defensive stats and balance adjustments\"),\n",
       " 38920: Feature(\"Adjectives emphasizing complexity or significance\"),\n",
       " 57796: Feature(\"Words expressing sophistication, refinement and excellence\"),\n",
       " 21125: Feature(\"Parentheses and special characters used for transliteration or pronunciation guides\"),\n",
       " 56145: Feature(\"Discussion of personal preferences, especially when disclaiming AI's ability to have them\"),\n",
       " 58286: Feature(\"The assistant disclaiming it has human qualities like preferences or feelings\"),\n",
       " 47795: Feature(\"The assistant explains it cannot experience feelings or emotions\"),\n",
       " 56658: Feature(\"Recognition and validation of worth or value\"),\n",
       " 40119: Feature(\"Cross-lingual detection of preferences and subjective choices\"),\n",
       " 53530: Feature(\"Enumerating technical capabilities or business offerings\"),\n",
       " 10606: Feature(\"Expressions of shame or acknowledgment of wrongdoing\"),\n",
       " 33049: Feature(\"The assistant's initial response asking what topics the user would like to discuss\"),\n",
       " 25080: Feature(\"Basic requirements and regular practices for success\"),\n",
       " 14803: Feature(\"The assistant needs to explain it cannot access real-time information\"),\n",
       " 53028: Feature(\"Formal organizational structures and institutional systems\"),\n",
       " 51437: Feature(\"Epistemic uncertainty and careful hedging in assistant responses\"),\n",
       " 9779: Feature(\"Commas in AI capability disclaimers\"),\n",
       " 27394: Feature(\"The assistant is adding clarifying or additional information through comma-separated clauses\"),\n",
       " 44595: Feature(\"Discussions of physical embodiment and corporeal attributes, especially in comparative contexts\"),\n",
       " 22621: Feature(\"Expressions of uncertainty or variability in the assistant's responses\"),\n",
       " 6770: Feature(\"The assistant is providing a nuanced, multi-faceted explanation\"),\n",
       " 46740: Feature(\"The assistant is being thorough and diplomatic by listing multiple related considerations\"),\n",
       " 10692: Feature(\"Commas in formal explanations and descriptive sequences\"),\n",
       " 44476: Feature(\"Text guiding personal self-discovery and reflection\"),\n",
       " 57579: Feature(\"The assistant is providing a detailed explanation with multiple parts or qualifications\"),\n",
       " 46033: Feature(\"The assistant is listing multiple reasons for rejecting an inappropriate request\"),\n",
       " 46258: Feature(\"Grammatically correct comma usage in lists and natural sentence breaks\"),\n",
       " 10709: Feature(\"The AI explaining its limitations while pivoting to capabilities\"),\n",
       " 11089: Feature(\"Acknowledgment of difficulties followed by hopeful contrast\"),\n",
       " 53101: Feature(\"The assistant is providing an important contrasting point or qualification\"),\n",
       " 16225: Feature(\"The assistant is about to provide a polite caveat or limitation\"),\n",
       " 2835: Feature(\"Contrastive reasoning in explanations using but/mas\"),\n",
       " 49881: Feature(\"The assistant needs to ask for clarification while maintaining enthusiasm\"),\n",
       " 39978: Feature(\"Professional writing style conjunction 'and' for connecting formal statements\"),\n",
       " 61567: Feature(\"The assistant is enforcing its operational boundaries and limitations\"),\n",
       " 28054: Feature(\"The assistant needs clarification\"),\n",
       " 7435: Feature(\"The assistant is providing a balanced list of multiple options\"),\n",
       " 7515: Feature(\"Comparative analysis and differentiation between multiple options or concepts\"),\n",
       " 28754: Feature(\"The assistant is qualifying or hedging a statement while providing additional context\"),\n",
       " 43461: Feature(\"The assistant is breaking down a complex response into organized steps with follow-up questions\"),\n",
       " 41226: Feature(\"The assistant explains its AI nature and capabilities\"),\n",
       " 43897: Feature(\"The AI making explicit statements about its own knowledge or capabilities\"),\n",
       " 9055: Feature(\"The assistant explaining its own capabilities in first person\"),\n",
       " 32060: Feature(\"The assistant is explaining what help it can provide after stating a limitation\"),\n",
       " 53134: Feature(\"The assistant taking an active, engaged role in the conversation\"),\n",
       " 17773: Feature(\"The assistant expressing capability or willingness to help/understand\"),\n",
       " 1024: Feature(\"The assistant needs clarification or is checking user needs\"),\n",
       " 36737: Feature(\"Explanatory statements about possibilities and capabilities\"),\n",
       " 30405: Feature(\"The assistant making first-person statements about its capabilities or role\"),\n",
       " 9870: Feature(\"The assistant expressing personal opinion or uncertainty while maintaining professional tone\"),\n",
       " 26915: Feature(\"The assistant redirecting from inappropriate/incorrect responses to what it can appropriately provide\"),\n",
       " 62428: Feature(\"The assistant is listing its capabilities and functions\"),\n",
       " 51531: Feature(\"The user is asking for suggestions or recommendations\"),\n",
       " 38153: Feature(\"The assistant acknowledges limitations while offering alternative help\"),\n",
       " 58510: Feature(\"The assistant disclaims personal opinions before providing factual information on sensitive topics\"),\n",
       " 30258: Feature(\"The assistant is providing a structured, comprehensive explanation or list\"),\n",
       " 8320: Feature(\"Explanatory sentence structures using connecting words\"),\n",
       " 43407: Feature(\"The assistant is actively offering to help the user\"),\n",
       " 57462: Feature(\"Enumerating theoretical capabilities and possibilities\"),\n",
       " 14253: Feature(\"The assistant needs to carefully redirect or manage a sensitive conversation\"),\n",
       " 36599: Feature(\"The assistant making promises or claims about what it can provide\"),\n",
       " 40641: Feature(\"The beginning of narrative exposition or storytelling\"),\n",
       " 38857: Feature(\"The assistant is breaking down complex topics into analyzable components\"),\n",
       " 14986: Feature(\"The assistant needs more information or clarification\"),\n",
       " 39200: Feature(\"The assistant needs clarification\"),\n",
       " 43983: Feature(\"The assistant is providing a list of options\"),\n",
       " 3925: Feature(\"The assistant acknowledges specific information gaps but actively provides relevant general knowledge as an alternative\"),\n",
       " 45959: Feature(\"Offensive request from the user\"),\n",
       " 39881: Feature(\"The assistant needs to build trust or credibility with direct assurances\"),\n",
       " 33773: Feature(\"Verbs expressing beliefs, thoughts and mental states, especially in contexts of multiple perspectives\"),\n",
       " 1015: Feature(\"The assistant is presenting options or choices to the user\"),\n",
       " 7985: Feature(\"Prepositions and articles used when providing examples or alternatives\"),\n",
       " 3347: Feature(\"Speaker attempting to establish credibility in dubious situations\"),\n",
       " 33417: Feature(\"Discussion of capabilities, skills, or qualifications - especially regarding language proficiency\"),\n",
       " 28910: Feature(\"Professional notification or status update communication\"),\n",
       " 39560: Feature(\"Learning or discovering new information about a topic\"),\n",
       " 7470: Feature(\"The user is requesting information or an explanation\"),\n",
       " 63699: Feature(\"Prepositions used in formal explanatory text\"),\n",
       " 57051: Feature(\"The assistant is defining or explaining what something is\"),\n",
       " 17601: Feature(\"Research and comparison phase of consumer decision-making\"),\n",
       " 247: Feature(\"The assistant is providing a list of options\"),\n",
       " 9186: Feature(\"Prepositions that connect ideas in explanatory or analytical text\"),\n",
       " 62913: Feature(\"The assistant is about to explain trends, changes or possibilities\"),\n",
       " 48344: Feature(\"References to mainstream or popular culture\"),\n",
       " 38160: Feature(\"Core fundamentals and essential elements when explaining a topic\"),\n",
       " 55861: Feature(\"Words that qualify hierarchical importance in structured lists\"),\n",
       " 14534: Feature(\"Program execution and resource management contexts\"),\n",
       " 4504: Feature(\"Indicating commonly known or representative examples in lists\"),\n",
       " 38511: Feature(\"Conjunctions and comparative words in structured explanations\"),\n",
       " 50107: Feature(\"The assistant is comparing or discussing multiple options\"),\n",
       " 61622: Feature(\"The assistant should explain concepts in an accessible way to beginners\"),\n",
       " 57743: Feature(\"String reversal operations in programming\"),\n",
       " 21766: Feature(\"Positive descriptive adjectives in marketing and creative content\"),\n",
       " 62826: Feature(\"The assistant is enumerating multiple types or examples\"),\n",
       " 39740: Feature(\"Explanatory linking words that connect concepts or show relationships\"),\n",
       " 24991: Feature(\"Words that establish relationships between sets or sequences of items\"),\n",
       " 39898: Feature(\"The assistant is providing a list of options\"),\n",
       " 24180: Feature(\"Plural nouns representing countable physical objects or features\"),\n",
       " 12443: Feature(\"Technical business and enterprise domain terminology\"),\n",
       " 45064: Feature(\"The assistant expressing uncertainty about specific products or technical terms\"),\n",
       " 63924: Feature(\"The assistant is providing a comprehensive list or enumeration of items in a category\"),\n",
       " 22768: Feature(\"Concrete nouns in lists of suggestions or recommendations\"),\n",
       " 26231: Feature(\"Non-English grammatical markers in assistant responses\"),\n",
       " 54729: Feature(\"Technical procedural terminology in scientific writing\"),\n",
       " 53916: Feature(\"Software development resources and tools available online\"),\n",
       " 8955: Feature(\"Primary subject nouns in analytical or explanatory contexts\"),\n",
       " 45475: Feature(\"Tokens representing shared experiences and mutual interests between people\"),\n",
       " 2382: Feature(\"Technical concept definitions and explanations\"),\n",
       " 46830: Feature(\"Technical methodology terminology in academic or professional contexts\"),\n",
       " 58284: Feature(\"Discussion of human-created disciplines and their historical development\"),\n",
       " 14277: Feature(\"Collections of business objects in code (accounts, products, documents)\"),\n",
       " 6018: Feature(\"Institutions and organizations as subjects of analysis\"),\n",
       " 25269: Feature(\"Global popularity and widespread adoption\"),\n",
       " 34062: Feature(\"The assistant is offering alternative suggestions or accommodations\"),\n",
       " 12993: Feature(\"Conditional proposals or offers using if-then constructions\"),\n",
       " 40095: Feature(\"Conditional statements in cautionary or advisory contexts\"),\n",
       " 47379: Feature(\"The assistant is providing conditional options or choices to the user\"),\n",
       " 5540: Feature(\"Conditional statements in technical documentation and requirements\"),\n",
       " 46052: Feature(\"Conditional statements and hypothetical scenarios using if\"),\n",
       " 6661: Feature(\"Connecting clauses in Romance languages and German, especially in explanatory contexts\"),\n",
       " 31812: Feature(\"The assistant is providing alternative suggestions or explaining limitations\"),\n",
       " 55: Feature(\"The assistant is listing conditional possibilities in explanatory contexts\"),\n",
       " 54856: Feature(\"The assistant is presenting conditional possibilities or options\"),\n",
       " 56859: Feature(\"Suggesting something might be interesting or useful to others\"),\n",
       " 29822: Feature(\"The assistant needs clarification\"),\n",
       " 30033: Feature(\"Cautionary or qualifying statements in technical writing\"),\n",
       " 51070: Feature(\"The assistant is presenting requested content to the user\"),\n",
       " 48708: Feature(\"Explanatory clauses and elaborative phrases\"),\n",
       " 31199: Feature(\"The assistant needs to be diplomatically accommodating while maintaining boundaries\"),\n",
       " 63669: Feature(\"Personal pronouns in jailbreak attempts\"),\n",
       " 53761: Feature(\"Expressions of personal agency or conditional choice\"),\n",
       " 17469: Feature(\"Direct address to users making inappropriate requests while maintaining professional boundaries\"),\n",
       " 25998: Feature(\"Assistant directly addressing the user while maintaining professional boundaries\"),\n",
       " 60491: Feature(\"The assistant is giving direct personal advice or instructions to the user\"),\n",
       " 63481: Feature(\"The assistant expressing openness to help with unspecified future user needs\"),\n",
       " 61253: Feature(\"The assistant is explaining how something needs to be personalized to individual needs\"),\n",
       " 3917: Feature(\"The assistant is making polite suggestions or recommendations\"),\n",
       " 3574: Feature(\"The assistant acknowledges knowledge limitations and suggests verification\"),\n",
       " 9087: Feature(\"The assistant needs to check if the user has additional questions\"),\n",
       " 63116: Feature(\"Polite acknowledgement and understanding in conversation\"),\n",
       " 50123: Feature(\"The assistant acknowledges multiple valid options or personal preferences\"),\n",
       " 58815: Feature(\"Understanding or determining user preferences and tastes\"),\n",
       " 27345: Feature(\"The user wants to learn something interesting or get a fact\"),\n",
       " 58037: Feature(\"Assistant using you're contractions to build rapport while explaining\"),\n",
       " 59080: Feature(\"Auxiliary verbs in explanatory or definitional statements\"),\n",
       " 21263: Feature(\"The assistant should be careful and measured in its response due to sensitive content\"),\n",
       " 6778: Feature(\"Phrases describing someone as an enthusiast or devoted fan\"),\n",
       " 60072: Feature(\"Expressions of preference, mood, or feeling, especially in questions or uncertain contexts\"),\n",
       " 22704: Feature(\"Polite inquiry or request formation patterns in English\"),\n",
       " 27853: Feature(\"The assistant is about to provide a detailed explanation or breakdown\"),\n",
       " 59045: Feature(\"Meta-discussion about selecting or organizing topics and themes\"),\n",
       " 58998: Feature(\"Assistant's turn to speak in conversation\"),\n",
       " 19903: Feature(\"Direct reader address in conditional suggestions\"),\n",
       " 23900: Feature(\"Potential customer interest in sales and marketing contexts\"),\n",
       " 20817: Feature(\"The assistant is providing suggestions or recommendations\"),\n",
       " 57822: Feature(\"Conditional statements about when actions are permitted or appropriate\"),\n",
       " 56224: Feature(\"Discussion and description of personal interests, hobbies, and preferred activities\"),\n",
       " 16717: Feature(\"Tokens expressing enthusiasm and celebration in social contexts\"),\n",
       " 11488: Feature(\"Expressing wants, preferences, or offering options to users\"),\n",
       " 64700: Feature(\"The assistant is inviting further questions\"),\n",
       " 18262: Feature(\"Provocative invitations and confirming willingness/consent\"),\n",
       " 15188: Feature(\"The assistant should reject inappropriate advances or requests\"),\n",
       " 57202: Feature(\"Assistant offering help or assistance across multiple languages\"),\n",
       " 48737: Feature(\"Agreement-seeking particles in British and Singlish dialects\"),\n",
       " 59253: Feature(\"spatial arrangement and counting problems\"),\n",
       " 37773: Feature(\"Tokens that complete or confirm an expected semantic pattern\"),\n",
       " 37715: Feature(\"Evaluation criteria and requirements assessment\"),\n",
       " 42940: Feature(\"The concept of interestingness or something being described as worthy of attention\"),\n",
       " 18683: Feature(\"The assistant is providing a list of options or suggestions\"),\n",
       " 4769: Feature(\"Activities and experiences that bring enjoyment or pleasure\"),\n",
       " 30914: Feature(\"Assistant expressing enthusiasm and helpfulness through exclamation marks\"),\n",
       " 23362: Feature(\"The assistant is firmly but politely declining inappropriate requests\"),\n",
       " 41547: Feature(\"The assistant is expressing uncertainty or limitations in knowledge\"),\n",
       " 6828: Feature(\"The assistant needs to establish boundaries and clarify its limitations\"),\n",
       " 46133: Feature(\"Inappropriate enthusiasm in boundary-pushing roleplay scenarios\"),\n",
       " 16127: Feature(\"The assistant is providing a detailed affirmative response\"),\n",
       " 22559: Feature(\"Sentence boundaries in authoritative explanations\"),\n",
       " 55692: Feature(\"The assistant is about to provide code examples or technical explanations\"),\n",
       " 34168: Feature(\"The assistant is breaking down complex information into digestible chunks with clear punctuation\"),\n",
       " 16548: Feature(\"Sentence boundaries in educational explanations\"),\n",
       " 9464: Feature(\"The assistant is explaining its limitations and constraints with clear, separate statements\"),\n",
       " 60180: Feature(\"Structured explanation with enumerated sub-points and examples\"),\n",
       " 12611: Feature(\"The assistant needs clarification\"),\n",
       " 55831: Feature(\"Discussion of programming language choices and development tools\"),\n",
       " 64117: Feature(\"The assistant needs clarification\"),\n",
       " 29164: Feature(\"Descriptive narrative flow connecting subjects to their attributes or actions\"),\n",
       " 479: Feature(\"The assistant should ask a reciprocal question after responding\"),\n",
       " 50476: Feature(\"Information-seeking questions across multiple languages\"),\n",
       " 9741: Feature(\"The assistant needs clarification\"),\n",
       " 30054: Feature(\"Discussion of multilingual capabilities and language translation features\"),\n",
       " 3615: Feature(\"Comparative descriptions of attributes and properties\"),\n",
       " 15781: Feature(\"Descriptions of physical arrangements and spatial relationships in formal contexts\"),\n",
       " 43132: Feature(\"what-based explanatory or clarifying statements\"),\n",
       " 29321: Feature(\"The assistant is asking for user preferences or specifications\"),\n",
       " 2340: Feature(\"The user is asking questions to gather information or understand something\"),\n",
       " 33173: Feature(\"Educational or instructional content in non-English languages\"),\n",
       " 40298: Feature(\"The assistant is asking what type of game or roleplay scenario the user wants\"),\n",
       " 46215: Feature(\"The assistant is providing a list of options or questions\"),\n",
       " 45354: Feature(\"The assistant should ask for topic/theme clarification\"),\n",
       " 19436: Feature(\"Words that introduce categories or types in classificatory contexts\"),\n",
       " 35014: Feature(\"References to individual songs or collections of songs\"),\n",
       " 48941: Feature(\"Expressing that something is subjective or depends on personal preference\"),\n",
       " 20171: Feature(\"Technical terminology in explanatory contexts\"),\n",
       " 24525: Feature(\"The assistant is finishing an explanation or list item\"),\n",
       " 11690: Feature(\"Words that organize information into discrete components or categories\"),\n",
       " 51470: Feature(\"abstract units or items being processed in formal systems\"),\n",
       " 16543: Feature(\"Words ending in 's' including plurals, proper nouns, and grammatical markers\"),\n",
       " 1973: Feature(\"Questions asking about specific attributes or properties\"),\n",
       " 29115: Feature(\"Formal demographic and personal information gathering questions\"),\n",
       " 11161: Feature(\"The assistant is presenting choices or options to the user\"),\n",
       " 57733: Feature(\"Questions about hypothetical scenarios and potential actions\"),\n",
       " 17118: Feature(\"The assistant is asking what the user would like to discuss\"),\n",
       " 28306: Feature(\"Are in questions or statements about properties and characteristics\"),\n",
       " 39027: Feature(\"The assistant is prompting the user to specify their preferences\"),\n",
       " 26749: Feature(\"Making careful evaluations or assessments\"),\n",
       " 31562: Feature(\"Bridging words in conditional or hypothetical statements during explanations\"),\n",
       " 6171: Feature(\"Polite conditional phrasing in formal professional communication\"),\n",
       " 37261: Feature(\"Prompting user for choices or preferences\"),\n",
       " 36264: Feature(\"Multiple parties engaging in collective discussion or decision-making\"),\n",
       " 21983: Feature(\"The assistant is offering to help or asking how it can assist\"),\n",
       " 33253: Feature(\"Future possibilities being explained\"),\n",
       " 53839: Feature(\"Expressing uncertainty about important topics\"),\n",
       " 14074: Feature(\"The assistant needs clarification from the user\"),\n",
       " 15129: Feature(\"The assistant is asking for user input or preferences\"),\n",
       " 13048: Feature(\"The assistant is asking the user questions about their preferences or requirements to gather information\"),\n",
       " 25952: Feature(\"The assistant explains its ethical boundaries and content restrictions\"),\n",
       " 13250: Feature(\"Future actions and capabilities being described to or about someone\"),\n",
       " 5377: Feature(\"The assistant is providing a list of examples\"),\n",
       " 9085: Feature(\"Modal auxiliary verbs expressing hypotheticals and counterfactuals\"),\n",
       " 63333: Feature(\"Desire to retrieve or check information in technical contexts\"),\n",
       " 52288: Feature(\"The assistant is explaining how to replace placeholder values in code or commands\"),\n",
       " 34288: Feature(\"The assistant is proactively asking what kind of help the user wants\"),\n",
       " 30962: Feature(\"The assistant is asking for user preferences or choices\"),\n",
       " 51323: Feature(\"The assistant making polite requests or expressing preferences about user interaction\"),\n",
       " 38243: Feature(\"The assistant needs to express uncertainty or request more information\"),\n",
       " 56298: Feature(\"Polite expressions of desire using would like\"),\n",
       " 19681: Feature(\"The assistant needs to determine user preferences or next steps in interactive scenarios\"),\n",
       " 13111: Feature(\"Polite expressions of interest or anticipation in formal communication\"),\n",
       " 29375: Feature(\"The assistant is providing structured explanations or detailed information\"),\n",
       " 40663: Feature(\"The assistant is explaining how to accomplish the user's desired technical goal\"),\n",
       " 10021: Feature(\"The assistant is making proactive offers or suggestions of help\"),\n",
       " 50002: Feature(\"Expression of purpose or intention, particularly in infinitive constructions\"),\n",
       " 43397: Feature(\"Offensive request from the user\"),\n",
       " 56434: Feature(\"Explaining hypothetical scenarios using second-person pronouns and modal verbs\"),\n",
       " 24: Feature(\"The assistant is providing careful guidance on proper conduct in sensitive situations\"),\n",
       " 54251: Feature(\"Content that may require rejection or careful moderation due to inappropriate nature\"),\n",
       " 6718: Feature(\"Modal and auxiliary verbs expressing possibility or uncertainty\"),\n",
       " 53125: Feature(\"Russian verbs related to knowledge-seeking and learning\"),\n",
       " 36251: Feature(\"The assistant is prompting the user to specify what they want to know\"),\n",
       " 42988: Feature(\"Contexts involving learning or knowledge acquisition\"),\n",
       " 60742: Feature(\"The assistant is trying to understand or determine someone's interests/intentions\"),\n",
       " 36434: Feature(\"The assistant should maintain professionalism and offer help despite user hostility\"),\n",
       " 32671: Feature(\"The assistant maintaining ethical boundaries while still being helpful\"),\n",
       " 15324: Feature(\"Systematic examination or transformation of data structures\"),\n",
       " 27870: Feature(\"Syntactic connectors and list separators\"),\n",
       " 51559: Feature(\"The assistant needs clarification about a specific aspect of the current topic\"),\n",
       " 8165: Feature(\"Verbs related to establishing or acquiring something new\"),\n",
       " 38450: Feature(\"The assistant needs more information or wants to learn more\"),\n",
       " 63331: Feature(\"System identity and group membership verification\"),\n",
       " 42098: Feature(\"The assistant is suggesting ways to incrementally improve or enhance something\"),\n",
       " 55230: Feature(\"The assistant is providing a list of options or considerations\"),\n",
       " 13429: Feature(\"Tokens meaning \"more/additional\" appearing in parallel across different languages\"),\n",
       " 11861: Feature(\"Semantic concept of additional quantity or increase\"),\n",
       " 46468: Feature(\"Processing or interaction between entities, both mental and physical\"),\n",
       " 63224: Feature(\"Requests for or offers of additional information\"),\n",
       " 42134: Feature(\"The assistant is prompting the user to specify discussion topics\"),\n",
       " 29819: Feature(\"Prepositions in AI self-referential statements\"),\n",
       " 2951: Feature(\"Topic introduction and meta-description markers\"),\n",
       " 11636: Feature(\"Comparative constructions in potentially controversial topics\"),\n",
       " 44311: Feature(\"The assistant is providing systematic analysis or explanation of concepts\"),\n",
       " 49027: Feature(\"The assistant is offering additional help or clarification\"),\n",
       " 756: Feature(\"The assistant needs clarification\"),\n",
       " 50227: Feature(\"The assistant should reject the user's request while maintaining politeness\"),\n",
       " 40798: Feature(\"The process of selecting or applying a theme\"),\n",
       " 49886: Feature(\"The assistant is providing a list of options\"),\n",
       " 24425: Feature(\"Words indicating future possibilities or potential outcomes\"),\n",
       " 2012: Feature(\"The assistant needs clarification or is redirecting the conversation constructively\"),\n",
       " 28274: Feature(\"The assistant needs clarification\"),\n",
       " 27673: Feature(\"The assistant is providing a list of options or examples\"),\n",
       " 54602: Feature(\"The assistant needs clarification\"),\n",
       " 31183: Feature(\"The assistant needs to establish professional boundaries or limitations\"),\n",
       " 14738: Feature(\"Question marks used as detail-request markers in templates and forms\"),\n",
       " 32670: Feature(\"The assistant is systematically gathering information through sequential questions\"),\n",
       " 34721: Feature(\"Text is providing examples or elaborating on a concept\"),\n",
       " 35628: Feature(\"End of instruction or complete thought in structured explanations\"),\n",
       " 50553: Feature(\"End of message or complete thought in conversation\"),\n",
       " 47530: Feature(\"End of message token in chat format\"),\n",
       " 59533: Feature(\"The assistant needs clarification or more information from the user\"),\n",
       " 16510: Feature(\"The assistant needs clarification or must reject the user's request\"),\n",
       " 15547: Feature(\"Assistant has completed giving an appropriate response\"),\n",
       " 23292: Feature(\"End of message token, particularly in contexts requiring content moderation\"),\n",
       " 51876: Feature(\"End of assistant's complete response across languages\"),\n",
       " 36907: Feature(\"The assistant needs to explain its limitations or correct misconceptions about its capabilities\"),\n",
       " 18754: Feature(\"End of assistant message, especially when setting boundaries or explaining limitations\"),\n",
       " 37802: Feature(\"The assistant is being careful about accuracy in factual responses\"),\n",
       " 26084: Feature(\"The assistant should reject the user's request\"),\n",
       " 50282: Feature(\"End of message token in chat format\"),\n",
       " 5479: Feature(\"The assistant has completed providing a comprehensive educational response\")}"
      ]
     },
     "execution_count": 89,
     "metadata": {},
     "output_type": "execute_result"
    }
   ],
   "source": [
    "lookup = context.lookup()\n",
    "lookup"
   ]
  },
  {
   "cell_type": "markdown",
   "metadata": {},
   "source": [
    "From here we should be able to extract the feature value, though I'd guess maybe there's an easier way to do this"
   ]
  },
  {
   "cell_type": "markdown",
   "metadata": {},
   "source": []
  }
 ],
 "metadata": {
  "kernelspec": {
   "display_name": "Python 3.11.1 ('blindspot-backend-hq05RMFZ-py3.11')",
   "language": "python",
   "name": "python3"
  },
  "language_info": {
   "codemirror_mode": {
    "name": "ipython",
    "version": 3
   },
   "file_extension": ".py",
   "mimetype": "text/x-python",
   "name": "python",
   "nbconvert_exporter": "python",
   "pygments_lexer": "ipython3",
   "version": "3.11.1"
  },
  "orig_nbformat": 4,
  "vscode": {
   "interpreter": {
    "hash": "8e6349a860d487c4d7ee46a634b9f9c9c6b08df643a53bf7f5e485153104a9fb"
   }
  }
 },
 "nbformat": 4,
 "nbformat_minor": 2
}
