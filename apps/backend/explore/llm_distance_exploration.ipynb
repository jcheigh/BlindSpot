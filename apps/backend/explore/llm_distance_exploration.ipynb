{
 "cells": [
  {
   "cell_type": "code",
   "execution_count": 6,
   "metadata": {},
   "outputs": [
    {
     "name": "stdout",
     "output_type": "stream",
     "text": [
      "distance=0.2\n"
     ]
    }
   ],
   "source": [
    "import os \n",
    "from openai import OpenAI\n",
    "from dotenv import load_dotenv\n",
    "from pydantic import BaseModel\n",
    "\n",
    "class DistanceOutput(BaseModel):\n",
    "    distance: float\n",
    "    \n",
    "load_dotenv()\n",
    "client = OpenAI(api_key=os.getenv(\"OPENAI_API_KEY\"))\n",
    "\n",
    "system_prompt = \"\"\"You are given two short phrases. Output strictly a JSON object with:\n",
    "  - \"distance\": a float ≥0.0 and ≤1.0\n",
    "    • 0.0 = identical\n",
    "    • values near 0 = very similar\n",
    "    • values near 1 = totally dissimilar\n",
    "\n",
    "Return it **as JSON and nothing else**.\"\"\"\n",
    "\n",
    "guess   = \"Baseball\"\n",
    "concept = \"Sports\"\n",
    "\n",
    "prompt = f'Phrase 1: {guess}, Phrase 2: {concept}'\n",
    "\n",
    "response = client.responses.parse(\n",
    "    model=\"gpt-4.1-nano-2025-04-14\",\n",
    "    input=[\n",
    "        {\"role\": \"system\", \"content\": system_prompt},\n",
    "        {\"role\": \"user\", \"content\": prompt},\n",
    "    ],\n",
    "    text_format=DistanceOutput\n",
    ")\n",
    "\n",
    "print(response.output_parsed)"
   ]
  },
  {
   "cell_type": "code",
   "execution_count": 15,
   "metadata": {},
   "outputs": [
    {
     "data": {
      "text/plain": [
       "0.3"
      ]
     },
     "execution_count": 15,
     "metadata": {},
     "output_type": "execute_result"
    }
   ],
   "source": [
    "class _DistanceSchema(BaseModel):\n",
    "    distance: float\n",
    "\n",
    "class LLMDistance:\n",
    "    \"\"\"LLM-based semantic distance with lazy OpenAI client init.\"\"\"\n",
    "    \n",
    "    _client = None\n",
    "    _model = \"gpt-4.1-mini-2025-04-14\"\n",
    "    _system_prompt = \"\"\"\n",
    "        # Instructions\n",
    "        You are given two short phrases. Output strictly a JSON object with:\n",
    "          - \"distance\": a float ≥0.0 and ≤1.0\n",
    "            • values < .2 = similar enough you wouldn't discount someone from saying one vs. other in a quiz\n",
    "            • .2 < values < .4 = pretty close but not really the same, for example if one is a subgroup of the other\n",
    "            • values > .7 = not really close at all \n",
    "        Return it **as JSON and nothing else**\n",
    "\n",
    "        # Examples:\n",
    "        <distance_inputs id=\"example-1\">\n",
    "            Phrase 1: Sports, Phrase 2: Athletics \n",
    "        </distance_inputs>\n",
    "\n",
    "        <assistant_response id=\"example-1\">\n",
    "            {distance : 0.1}\n",
    "        </assistant_response>\n",
    "\n",
    "        <assistance_explanation id=\"example-1\">\n",
    "            Sports and Athletics are basically identical answers (so < .2) but not the exact same (so > 0)\n",
    "        </assistant_explanation>\n",
    "\n",
    "        <distance_inputs id=\"example-2\">\n",
    "            Phrase 1: Sports, Phrase 2: Baseball \n",
    "        </distance_inputs>\n",
    "\n",
    "        <assistant_response id=\"example-2\">\n",
    "            {distance : 0.3}\n",
    "        </assistant_response>\n",
    "\n",
    "        <assistance_explanation id=\"example-2\">\n",
    "            Sports and Baseball are definitely related (so < .4) but one is a subgroup of the other (so > .2)\n",
    "        </assistant_explanation>\n",
    "\n",
    "        <distance_inputs id=\"example-3\">\n",
    "            Phrase 1: Sports, Phrase 2: Eating \n",
    "        </distance_inputs>\n",
    "\n",
    "        <assistant_response id=\"example-3\">\n",
    "            {distance : 1}\n",
    "        </assistant_response>\n",
    "\n",
    "        <assistance_explanation id=\"example-3\">\n",
    "            Sports and Eating are completely unrelated\n",
    "        </assistant_explanation>\n",
    "    \"\"\"\n",
    "    @classmethod\n",
    "    def _get_client(cls) -> OpenAI:\n",
    "        if cls._client is None:\n",
    "            load_dotenv()  \n",
    "            cls._client = OpenAI(api_key=os.getenv(\"OPENAI_API_KEY\"))\n",
    "        return cls._client\n",
    "\n",
    "    @classmethod\n",
    "    def distance(cls, a: str, b: str) -> float:\n",
    "        \"\"\"\n",
    "        Compute semantic distance ∈ [0,1] between phrases `a` and `b`\n",
    "        (0 = identical, 1 = unrelated).  Uses cached OpenAI client.\n",
    "        \"\"\"\n",
    "        prompt = f\"Phrase 1: {a}, Phrase 2: {b}\"\n",
    "        response = cls._get_client().responses.parse(\n",
    "            model=cls._model,\n",
    "            input=[\n",
    "                {\"role\": \"system\", \"content\": cls._system_prompt},\n",
    "                {\"role\": \"user\", \"content\": prompt},\n",
    "            ],\n",
    "            text_format=_DistanceSchema,\n",
    "            temperature=0\n",
    "        )\n",
    "        return response.output_parsed.distance\n",
    "\n",
    "\n",
    "LLMDistance.distance(\"Baseball\", \"Sports\")\n"
   ]
  },
  {
   "cell_type": "code",
   "execution_count": 16,
   "metadata": {},
   "outputs": [
    {
     "name": "stdout",
     "output_type": "stream",
     "text": [
      "concept='Sports', guess='Chess' distance=0.8\n",
      "concept='Movies', guess='Media' distance=0.3\n",
      "concept='Food', guess='Cusine' distance=0.15\n",
      "concept='Food', guess='Fishing' distance=0.8\n"
     ]
    }
   ],
   "source": [
    "for (concept, guess) in zip(concepts:= ['Sports','Movies','Food', 'Food'], guesses:= ['Chess', 'Media','Cusine', 'Fishing']):\n",
    "    print(f\"{concept=}, {guess=} distance={LLMDistance.distance(concept, guess)}\")"
   ]
  },
  {
   "cell_type": "code",
   "execution_count": null,
   "metadata": {},
   "outputs": [],
   "source": []
  }
 ],
 "metadata": {
  "kernelspec": {
   "display_name": "Python 3.9.12 ('base')",
   "language": "python",
   "name": "python3"
  },
  "language_info": {
   "codemirror_mode": {
    "name": "ipython",
    "version": 3
   },
   "file_extension": ".py",
   "mimetype": "text/x-python",
   "name": "python",
   "nbconvert_exporter": "python",
   "pygments_lexer": "ipython3",
   "version": "3.9.12"
  },
  "orig_nbformat": 4,
  "vscode": {
   "interpreter": {
    "hash": "40d3a090f54c6569ab1632332b64b2c03c39dcf918b08424e98f38b5ae0af88f"
   }
  }
 },
 "nbformat": 4,
 "nbformat_minor": 2
}
